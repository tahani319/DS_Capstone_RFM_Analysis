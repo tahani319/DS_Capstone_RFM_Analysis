{
  "nbformat": 4,
  "nbformat_minor": 0,
  "metadata": {
    "colab": {
      "name": "RFM_Analysis.ipynb",
      "provenance": [],
      "authorship_tag": "ABX9TyOA9jnVB5OXkx0OB9mvhlxN",
      "include_colab_link": true
    },
    "kernelspec": {
      "name": "python3",
      "display_name": "Python 3"
    }
  },
  "cells": [
    {
      "cell_type": "markdown",
      "metadata": {
        "id": "view-in-github",
        "colab_type": "text"
      },
      "source": [
        "<a href=\"https://colab.research.google.com/github/tahani319/DS_Capstone_RFM_Analysis/blob/main/RFM_Analysis.ipynb\" target=\"_parent\"><img src=\"https://colab.research.google.com/assets/colab-badge.svg\" alt=\"Open In Colab\"/></a>"
      ]
    },
    {
      "cell_type": "markdown",
      "metadata": {
        "id": "V4CO9U7IWpno"
      },
      "source": [
        "**Data Set Information:**\n",
        "\n",
        "This Online Retail II data set contains all the transactions occurring for a UK-based and registered, non-store online retail between 01.12.2010 and 09.12.2011.\n",
        "\n",
        "The company mainly sells unique all-occasion gift-ware. Many customers of the company are wholesalers. \n",
        "[https://archive.ics.uci.edu/ml/datasets/online+retail]\n",
        "\n",
        "\n",
        "**Attribute Information:**\n",
        "\n",
        "* InvoiceNo: Invoice number. Nominal. A 6-digit integral\n",
        "* number uniquely assigned to each transaction. If this code starts with the letter 'c', it indicates a cancellation.\n",
        "* StockCode: Product (item) code. Nominal. A 5-digit integral number uniquely assigned to each distinct product.\n",
        "* Description: Product (item) name. Nominal.\n",
        "* Quantity: The quantities of each product (item) per transaction. Numeric.\n",
        "* InvoiceDate: Invice date and time. Numeric. The day and time when a transaction was generated.\n",
        "* UnitPrice: Unit price. Numeric. Product price per unit in sterling (Â£).\n",
        "* CustomerID: Customer number. Nominal. A 5-digit integral number uniquely assigned to each customer.\n",
        "* Country: Country name. Nominal. The name of the country where a customer resides.\n",
        "\n",
        "\n",
        "\n",
        "\n",
        "\n",
        "\n"
      ]
    },
    {
      "cell_type": "markdown",
      "metadata": {
        "id": "_jqplv5zWqvY"
      },
      "source": [
        "**import libraries:**"
      ]
    },
    {
      "cell_type": "code",
      "metadata": {
        "id": "dJZ0JEqTXoGt"
      },
      "source": [
        "#import libraries\n",
        "\n",
        "import pandas as pd # for dataframes\n",
        "import numpy as np\n",
        "import seaborn as sns #for gaphs \n",
        "import matplotlib.pyplot as plt # for plotting graphs\n",
        "\n",
        "import datetime as dt \n",
        "import missingno as msno\n",
        "\n"
      ],
      "execution_count": 512,
      "outputs": []
    },
    {
      "cell_type": "markdown",
      "metadata": {
        "id": "OYfZxJM5ajUp"
      },
      "source": [
        "**Dataset:**"
      ]
    },
    {
      "cell_type": "code",
      "metadata": {
        "id": "cyV1U6ZfalON"
      },
      "source": [
        "transactions = pd.read_excel('onlineretail.xlsx')"
      ],
      "execution_count": 465,
      "outputs": []
    },
    {
      "cell_type": "markdown",
      "metadata": {
        "id": "IXLZQvyna6S-"
      },
      "source": [
        "**Explore Data:**"
      ]
    },
    {
      "cell_type": "markdown",
      "metadata": {
        "id": "OXr04GvWbHfz"
      },
      "source": [
        "Data head:"
      ]
    },
    {
      "cell_type": "code",
      "metadata": {
        "colab": {
          "base_uri": "https://localhost:8080/",
          "height": 289
        },
        "id": "hzB_a3rVa0s5",
        "outputId": "316b75d8-13ea-445f-a339-647df90ddd46"
      },
      "source": [
        "transactions.head() #the first row of data"
      ],
      "execution_count": 466,
      "outputs": [
        {
          "output_type": "execute_result",
          "data": {
            "text/html": [
              "<div>\n",
              "<style scoped>\n",
              "    .dataframe tbody tr th:only-of-type {\n",
              "        vertical-align: middle;\n",
              "    }\n",
              "\n",
              "    .dataframe tbody tr th {\n",
              "        vertical-align: top;\n",
              "    }\n",
              "\n",
              "    .dataframe thead th {\n",
              "        text-align: right;\n",
              "    }\n",
              "</style>\n",
              "<table border=\"1\" class=\"dataframe\">\n",
              "  <thead>\n",
              "    <tr style=\"text-align: right;\">\n",
              "      <th></th>\n",
              "      <th>InvoiceNo</th>\n",
              "      <th>StockCode</th>\n",
              "      <th>Description</th>\n",
              "      <th>Quantity</th>\n",
              "      <th>InvoiceDate</th>\n",
              "      <th>UnitPrice</th>\n",
              "      <th>CustomerID</th>\n",
              "      <th>Country</th>\n",
              "    </tr>\n",
              "  </thead>\n",
              "  <tbody>\n",
              "    <tr>\n",
              "      <th>0</th>\n",
              "      <td>536365</td>\n",
              "      <td>85123A</td>\n",
              "      <td>WHITE HANGING HEART T-LIGHT HOLDER</td>\n",
              "      <td>6</td>\n",
              "      <td>2010-12-01 08:26:00</td>\n",
              "      <td>2.55</td>\n",
              "      <td>17850.0</td>\n",
              "      <td>United Kingdom</td>\n",
              "    </tr>\n",
              "    <tr>\n",
              "      <th>1</th>\n",
              "      <td>536365</td>\n",
              "      <td>71053</td>\n",
              "      <td>WHITE METAL LANTERN</td>\n",
              "      <td>6</td>\n",
              "      <td>2010-12-01 08:26:00</td>\n",
              "      <td>3.39</td>\n",
              "      <td>17850.0</td>\n",
              "      <td>United Kingdom</td>\n",
              "    </tr>\n",
              "    <tr>\n",
              "      <th>2</th>\n",
              "      <td>536365</td>\n",
              "      <td>84406B</td>\n",
              "      <td>CREAM CUPID HEARTS COAT HANGER</td>\n",
              "      <td>8</td>\n",
              "      <td>2010-12-01 08:26:00</td>\n",
              "      <td>2.75</td>\n",
              "      <td>17850.0</td>\n",
              "      <td>United Kingdom</td>\n",
              "    </tr>\n",
              "    <tr>\n",
              "      <th>3</th>\n",
              "      <td>536365</td>\n",
              "      <td>84029G</td>\n",
              "      <td>KNITTED UNION FLAG HOT WATER BOTTLE</td>\n",
              "      <td>6</td>\n",
              "      <td>2010-12-01 08:26:00</td>\n",
              "      <td>3.39</td>\n",
              "      <td>17850.0</td>\n",
              "      <td>United Kingdom</td>\n",
              "    </tr>\n",
              "    <tr>\n",
              "      <th>4</th>\n",
              "      <td>536365</td>\n",
              "      <td>84029E</td>\n",
              "      <td>RED WOOLLY HOTTIE WHITE HEART.</td>\n",
              "      <td>6</td>\n",
              "      <td>2010-12-01 08:26:00</td>\n",
              "      <td>3.39</td>\n",
              "      <td>17850.0</td>\n",
              "      <td>United Kingdom</td>\n",
              "    </tr>\n",
              "  </tbody>\n",
              "</table>\n",
              "</div>"
            ],
            "text/plain": [
              "  InvoiceNo StockCode  ... CustomerID         Country\n",
              "0    536365    85123A  ...    17850.0  United Kingdom\n",
              "1    536365     71053  ...    17850.0  United Kingdom\n",
              "2    536365    84406B  ...    17850.0  United Kingdom\n",
              "3    536365    84029G  ...    17850.0  United Kingdom\n",
              "4    536365    84029E  ...    17850.0  United Kingdom\n",
              "\n",
              "[5 rows x 8 columns]"
            ]
          },
          "metadata": {
            "tags": []
          },
          "execution_count": 466
        }
      ]
    },
    {
      "cell_type": "markdown",
      "metadata": {
        "id": "wDdjJXOjbE1W"
      },
      "source": [
        "Data tail:"
      ]
    },
    {
      "cell_type": "code",
      "metadata": {
        "colab": {
          "base_uri": "https://localhost:8080/",
          "height": 204
        },
        "id": "GlaOud46bBZk",
        "outputId": "e80673de-0ed0-4c0d-dc4b-87d566ed1979"
      },
      "source": [
        "transactions.tail()  #the last row of data "
      ],
      "execution_count": 467,
      "outputs": [
        {
          "output_type": "execute_result",
          "data": {
            "text/html": [
              "<div>\n",
              "<style scoped>\n",
              "    .dataframe tbody tr th:only-of-type {\n",
              "        vertical-align: middle;\n",
              "    }\n",
              "\n",
              "    .dataframe tbody tr th {\n",
              "        vertical-align: top;\n",
              "    }\n",
              "\n",
              "    .dataframe thead th {\n",
              "        text-align: right;\n",
              "    }\n",
              "</style>\n",
              "<table border=\"1\" class=\"dataframe\">\n",
              "  <thead>\n",
              "    <tr style=\"text-align: right;\">\n",
              "      <th></th>\n",
              "      <th>InvoiceNo</th>\n",
              "      <th>StockCode</th>\n",
              "      <th>Description</th>\n",
              "      <th>Quantity</th>\n",
              "      <th>InvoiceDate</th>\n",
              "      <th>UnitPrice</th>\n",
              "      <th>CustomerID</th>\n",
              "      <th>Country</th>\n",
              "    </tr>\n",
              "  </thead>\n",
              "  <tbody>\n",
              "    <tr>\n",
              "      <th>541904</th>\n",
              "      <td>581587</td>\n",
              "      <td>22613</td>\n",
              "      <td>PACK OF 20 SPACEBOY NAPKINS</td>\n",
              "      <td>12</td>\n",
              "      <td>2011-12-09 12:50:00</td>\n",
              "      <td>0.85</td>\n",
              "      <td>12680.0</td>\n",
              "      <td>France</td>\n",
              "    </tr>\n",
              "    <tr>\n",
              "      <th>541905</th>\n",
              "      <td>581587</td>\n",
              "      <td>22899</td>\n",
              "      <td>CHILDREN'S APRON DOLLY GIRL</td>\n",
              "      <td>6</td>\n",
              "      <td>2011-12-09 12:50:00</td>\n",
              "      <td>2.10</td>\n",
              "      <td>12680.0</td>\n",
              "      <td>France</td>\n",
              "    </tr>\n",
              "    <tr>\n",
              "      <th>541906</th>\n",
              "      <td>581587</td>\n",
              "      <td>23254</td>\n",
              "      <td>CHILDRENS CUTLERY DOLLY GIRL</td>\n",
              "      <td>4</td>\n",
              "      <td>2011-12-09 12:50:00</td>\n",
              "      <td>4.15</td>\n",
              "      <td>12680.0</td>\n",
              "      <td>France</td>\n",
              "    </tr>\n",
              "    <tr>\n",
              "      <th>541907</th>\n",
              "      <td>581587</td>\n",
              "      <td>23255</td>\n",
              "      <td>CHILDRENS CUTLERY CIRCUS PARADE</td>\n",
              "      <td>4</td>\n",
              "      <td>2011-12-09 12:50:00</td>\n",
              "      <td>4.15</td>\n",
              "      <td>12680.0</td>\n",
              "      <td>France</td>\n",
              "    </tr>\n",
              "    <tr>\n",
              "      <th>541908</th>\n",
              "      <td>581587</td>\n",
              "      <td>22138</td>\n",
              "      <td>BAKING SET 9 PIECE RETROSPOT</td>\n",
              "      <td>3</td>\n",
              "      <td>2011-12-09 12:50:00</td>\n",
              "      <td>4.95</td>\n",
              "      <td>12680.0</td>\n",
              "      <td>France</td>\n",
              "    </tr>\n",
              "  </tbody>\n",
              "</table>\n",
              "</div>"
            ],
            "text/plain": [
              "       InvoiceNo StockCode  ... CustomerID  Country\n",
              "541904    581587     22613  ...    12680.0   France\n",
              "541905    581587     22899  ...    12680.0   France\n",
              "541906    581587     23254  ...    12680.0   France\n",
              "541907    581587     23255  ...    12680.0   France\n",
              "541908    581587     22138  ...    12680.0   France\n",
              "\n",
              "[5 rows x 8 columns]"
            ]
          },
          "metadata": {
            "tags": []
          },
          "execution_count": 467
        }
      ]
    },
    {
      "cell_type": "markdown",
      "metadata": {
        "id": "nZHa3ZaTvbpz"
      },
      "source": [
        "**checke the data-types of the data:**"
      ]
    },
    {
      "cell_type": "code",
      "metadata": {
        "colab": {
          "base_uri": "https://localhost:8080/"
        },
        "id": "TFBx3I5DqhnW",
        "outputId": "c0963b4a-3716-4a4d-d3b2-fa0f42f9e400"
      },
      "source": [
        "transactions.dtypes"
      ],
      "execution_count": 468,
      "outputs": [
        {
          "output_type": "execute_result",
          "data": {
            "text/plain": [
              "InvoiceNo              object\n",
              "StockCode              object\n",
              "Description            object\n",
              "Quantity                int64\n",
              "InvoiceDate    datetime64[ns]\n",
              "UnitPrice             float64\n",
              "CustomerID            float64\n",
              "Country                object\n",
              "dtype: object"
            ]
          },
          "metadata": {
            "tags": []
          },
          "execution_count": 468
        }
      ]
    },
    {
      "cell_type": "markdown",
      "metadata": {
        "id": "O9j8Zj8cbMpI"
      },
      "source": [
        "**data information:** "
      ]
    },
    {
      "cell_type": "code",
      "metadata": {
        "colab": {
          "base_uri": "https://localhost:8080/"
        },
        "id": "zdzcR_2gbNK1",
        "outputId": "bfd147f1-f4d6-47fa-90be-b55c17dfe2ff"
      },
      "source": [
        "transactions.info()  #data information "
      ],
      "execution_count": 469,
      "outputs": [
        {
          "output_type": "stream",
          "text": [
            "<class 'pandas.core.frame.DataFrame'>\n",
            "RangeIndex: 541909 entries, 0 to 541908\n",
            "Data columns (total 8 columns):\n",
            " #   Column       Non-Null Count   Dtype         \n",
            "---  ------       --------------   -----         \n",
            " 0   InvoiceNo    541909 non-null  object        \n",
            " 1   StockCode    541909 non-null  object        \n",
            " 2   Description  540455 non-null  object        \n",
            " 3   Quantity     541909 non-null  int64         \n",
            " 4   InvoiceDate  541909 non-null  datetime64[ns]\n",
            " 5   UnitPrice    541909 non-null  float64       \n",
            " 6   CustomerID   406829 non-null  float64       \n",
            " 7   Country      541909 non-null  object        \n",
            "dtypes: datetime64[ns](1), float64(2), int64(1), object(4)\n",
            "memory usage: 33.1+ MB\n"
          ],
          "name": "stdout"
        }
      ]
    },
    {
      "cell_type": "code",
      "metadata": {
        "colab": {
          "base_uri": "https://localhost:8080/"
        },
        "id": "85mzCvdZcsTf",
        "outputId": "2194f265-9164-414e-b620-26ec2311fa07"
      },
      "source": [
        "transactions.Quantity. describe()"
      ],
      "execution_count": 470,
      "outputs": [
        {
          "output_type": "execute_result",
          "data": {
            "text/plain": [
              "count    541909.000000\n",
              "mean          9.552250\n",
              "std         218.081158\n",
              "min      -80995.000000\n",
              "25%           1.000000\n",
              "50%           3.000000\n",
              "75%          10.000000\n",
              "max       80995.000000\n",
              "Name: Quantity, dtype: float64"
            ]
          },
          "metadata": {
            "tags": []
          },
          "execution_count": 470
        }
      ]
    },
    {
      "cell_type": "code",
      "metadata": {
        "colab": {
          "base_uri": "https://localhost:8080/"
        },
        "id": "diVXq9VEcx6c",
        "outputId": "9bf72666-df95-4423-d8c4-d8e79fc40ed0"
      },
      "source": [
        "transactions.UnitPrice.describe()"
      ],
      "execution_count": 471,
      "outputs": [
        {
          "output_type": "execute_result",
          "data": {
            "text/plain": [
              "count    541909.000000\n",
              "mean          4.611114\n",
              "std          96.759853\n",
              "min      -11062.060000\n",
              "25%           1.250000\n",
              "50%           2.080000\n",
              "75%           4.130000\n",
              "max       38970.000000\n",
              "Name: UnitPrice, dtype: float64"
            ]
          },
          "metadata": {
            "tags": []
          },
          "execution_count": 471
        }
      ]
    },
    {
      "cell_type": "markdown",
      "metadata": {
        "id": "W9_pTh7wdCTC"
      },
      "source": [
        "**Missing Values:**"
      ]
    },
    {
      "cell_type": "code",
      "metadata": {
        "colab": {
          "base_uri": "https://localhost:8080/"
        },
        "id": "DlYEWEdDdHnK",
        "outputId": "ed38843c-487a-43d9-bf75-e22a7f092026"
      },
      "source": [
        "print('Number of Missing Values:' ,  transactions.isnull().sum()) ##check null values "
      ],
      "execution_count": 472,
      "outputs": [
        {
          "output_type": "stream",
          "text": [
            "Number of Missing Values: InvoiceNo           0\n",
            "StockCode           0\n",
            "Description      1454\n",
            "Quantity            0\n",
            "InvoiceDate         0\n",
            "UnitPrice           0\n",
            "CustomerID     135080\n",
            "Country             0\n",
            "dtype: int64\n"
          ],
          "name": "stdout"
        }
      ]
    },
    {
      "cell_type": "markdown",
      "metadata": {
        "id": "KHojijTCuFFV"
      },
      "source": [
        "visualize missing values:"
      ]
    },
    {
      "cell_type": "code",
      "metadata": {
        "colab": {
          "base_uri": "https://localhost:8080/",
          "height": 460
        },
        "id": "iA8rYBT1uK0j",
        "outputId": "1d0db155-b7e9-4cf7-f672-8ec4709ec6bb"
      },
      "source": [
        "msno.matrix(transactions)\n",
        "plt.show()"
      ],
      "execution_count": 473,
      "outputs": [
        {
          "output_type": "display_data",
          "data": {
            "image/png": "[encoded data removed]",
            "text/plain": [
              "<Figure size 1800x720 with 2 Axes>"
            ]
          },
          "metadata": {
            "tags": [],
            "needs_background": "light"
          }
        }
      ]
    },
    {
      "cell_type": "markdown",
      "metadata": {
        "id": "PrOLt5PGd2bZ"
      },
      "source": [
        "**Duplicated values:**"
      ]
    },
    {
      "cell_type": "code",
      "metadata": {
        "colab": {
          "base_uri": "https://localhost:8080/"
        },
        "id": "cwQpuhkAd8OY",
        "outputId": "811261ff-b015-4272-fea3-0a5690fee192"
      },
      "source": [
        "print('Number of duplicated records: ', transactions.duplicated(keep='first').sum()) #check duplicated values"
      ],
      "execution_count": 474,
      "outputs": [
        {
          "output_type": "stream",
          "text": [
            "Number of duplicated records:  5268\n"
          ],
          "name": "stdout"
        }
      ]
    },
    {
      "cell_type": "markdown",
      "metadata": {
        "id": "6nl4PqMwkDZh"
      },
      "source": [
        "**check canceled transactions:**"
      ]
    },
    {
      "cell_type": "code",
      "metadata": {
        "colab": {
          "base_uri": "https://localhost:8080/",
          "height": 289
        },
        "id": "3vnRYSA4kJhM",
        "outputId": "3a1305a4-0720-4c3b-ff29-fdf1f1d3fa34"
      },
      "source": [
        "canceled = transactions[transactions[\"InvoiceNo\"].str.contains(\"C\",na=False)]\n",
        "canceled.sort_values(\"Quantity\", ascending = True).head()"
      ],
      "execution_count": 475,
      "outputs": [
        {
          "output_type": "execute_result",
          "data": {
            "text/html": [
              "<div>\n",
              "<style scoped>\n",
              "    .dataframe tbody tr th:only-of-type {\n",
              "        vertical-align: middle;\n",
              "    }\n",
              "\n",
              "    .dataframe tbody tr th {\n",
              "        vertical-align: top;\n",
              "    }\n",
              "\n",
              "    .dataframe thead th {\n",
              "        text-align: right;\n",
              "    }\n",
              "</style>\n",
              "<table border=\"1\" class=\"dataframe\">\n",
              "  <thead>\n",
              "    <tr style=\"text-align: right;\">\n",
              "      <th></th>\n",
              "      <th>InvoiceNo</th>\n",
              "      <th>StockCode</th>\n",
              "      <th>Description</th>\n",
              "      <th>Quantity</th>\n",
              "      <th>InvoiceDate</th>\n",
              "      <th>UnitPrice</th>\n",
              "      <th>CustomerID</th>\n",
              "      <th>Country</th>\n",
              "    </tr>\n",
              "  </thead>\n",
              "  <tbody>\n",
              "    <tr>\n",
              "      <th>540422</th>\n",
              "      <td>C581484</td>\n",
              "      <td>23843</td>\n",
              "      <td>PAPER CRAFT , LITTLE BIRDIE</td>\n",
              "      <td>-80995</td>\n",
              "      <td>2011-12-09 09:27:00</td>\n",
              "      <td>2.08</td>\n",
              "      <td>16446.0</td>\n",
              "      <td>United Kingdom</td>\n",
              "    </tr>\n",
              "    <tr>\n",
              "      <th>61624</th>\n",
              "      <td>C541433</td>\n",
              "      <td>23166</td>\n",
              "      <td>MEDIUM CERAMIC TOP STORAGE JAR</td>\n",
              "      <td>-74215</td>\n",
              "      <td>2011-01-18 10:17:00</td>\n",
              "      <td>1.04</td>\n",
              "      <td>12346.0</td>\n",
              "      <td>United Kingdom</td>\n",
              "    </tr>\n",
              "    <tr>\n",
              "      <th>4287</th>\n",
              "      <td>C536757</td>\n",
              "      <td>84347</td>\n",
              "      <td>ROTATING SILVER ANGELS T-LIGHT HLDR</td>\n",
              "      <td>-9360</td>\n",
              "      <td>2010-12-02 14:23:00</td>\n",
              "      <td>0.03</td>\n",
              "      <td>15838.0</td>\n",
              "      <td>United Kingdom</td>\n",
              "    </tr>\n",
              "    <tr>\n",
              "      <th>160145</th>\n",
              "      <td>C550456</td>\n",
              "      <td>21108</td>\n",
              "      <td>FAIRY CAKE FLANNEL ASSORTED COLOUR</td>\n",
              "      <td>-3114</td>\n",
              "      <td>2011-04-18 13:08:00</td>\n",
              "      <td>2.10</td>\n",
              "      <td>15749.0</td>\n",
              "      <td>United Kingdom</td>\n",
              "    </tr>\n",
              "    <tr>\n",
              "      <th>160144</th>\n",
              "      <td>C550456</td>\n",
              "      <td>21175</td>\n",
              "      <td>GIN + TONIC DIET METAL SIGN</td>\n",
              "      <td>-2000</td>\n",
              "      <td>2011-04-18 13:08:00</td>\n",
              "      <td>1.85</td>\n",
              "      <td>15749.0</td>\n",
              "      <td>United Kingdom</td>\n",
              "    </tr>\n",
              "  </tbody>\n",
              "</table>\n",
              "</div>"
            ],
            "text/plain": [
              "       InvoiceNo StockCode  ... CustomerID         Country\n",
              "540422   C581484     23843  ...    16446.0  United Kingdom\n",
              "61624    C541433     23166  ...    12346.0  United Kingdom\n",
              "4287     C536757     84347  ...    15838.0  United Kingdom\n",
              "160145   C550456     21108  ...    15749.0  United Kingdom\n",
              "160144   C550456     21175  ...    15749.0  United Kingdom\n",
              "\n",
              "[5 rows x 8 columns]"
            ]
          },
          "metadata": {
            "tags": []
          },
          "execution_count": 475
        }
      ]
    },
    {
      "cell_type": "code",
      "metadata": {
        "colab": {
          "base_uri": "https://localhost:8080/"
        },
        "id": "9Og8KGyNkbQI",
        "outputId": "1597ee7d-e43d-44fa-9759-3c271d7e2d1e"
      },
      "source": [
        "canceled.info() #to see how canceled transactions do we have "
      ],
      "execution_count": 476,
      "outputs": [
        {
          "output_type": "stream",
          "text": [
            "<class 'pandas.core.frame.DataFrame'>\n",
            "Int64Index: 9288 entries, 141 to 541717\n",
            "Data columns (total 8 columns):\n",
            " #   Column       Non-Null Count  Dtype         \n",
            "---  ------       --------------  -----         \n",
            " 0   InvoiceNo    9288 non-null   object        \n",
            " 1   StockCode    9288 non-null   object        \n",
            " 2   Description  9288 non-null   object        \n",
            " 3   Quantity     9288 non-null   int64         \n",
            " 4   InvoiceDate  9288 non-null   datetime64[ns]\n",
            " 5   UnitPrice    9288 non-null   float64       \n",
            " 6   CustomerID   8905 non-null   float64       \n",
            " 7   Country      9288 non-null   object        \n",
            "dtypes: datetime64[ns](1), float64(2), int64(1), object(4)\n",
            "memory usage: 653.1+ KB\n"
          ],
          "name": "stdout"
        }
      ]
    },
    {
      "cell_type": "markdown",
      "metadata": {
        "id": "QRME8k__mQAb"
      },
      "source": [
        "**see the customer with most returns:**"
      ]
    },
    {
      "cell_type": "code",
      "metadata": {
        "id": "uTzBNfeWydQQ"
      },
      "source": [
        "ReturnCust = transactions[transactions.Quantity<0].groupby(['CustomerID','Country'])['Quantity'].sum()\n",
        "ReturnCust = ReturnCust.abs().sort_values(ascending=False)[0:10]"
      ],
      "execution_count": 477,
      "outputs": []
    },
    {
      "cell_type": "code",
      "metadata": {
        "colab": {
          "base_uri": "https://localhost:8080/",
          "height": 547
        },
        "id": "zLFo-evg6lTb",
        "outputId": "abd60214-a63b-4df8-df9d-24b25ef5b160"
      },
      "source": [
        "plt.figure(figsize=(7,6))\n",
        "ReturnCust.plot(kind='bar')\n",
        "plt.title('Customers with most Returns')"
      ],
      "execution_count": 478,
      "outputs": [
        {
          "output_type": "execute_result",
          "data": {
            "text/plain": [
              "Text(0.5, 1.0, 'Customers with most Returns')"
            ]
          },
          "metadata": {
            "tags": []
          },
          "execution_count": 478
        },
        {
          "output_type": "display_data",
          "data": {
            "image/png": "[encoded data removed]",
            "text/plain": [
              "<Figure size 504x432 with 1 Axes>"
            ]
          },
          "metadata": {
            "tags": [],
            "needs_background": "light"
          }
        }
      ]
    },
    {
      "cell_type": "markdown",
      "metadata": {
        "id": "FxRtsafRjcvW"
      },
      "source": [
        "### **Data preparation:**\n",
        "\n",
        "Here we do: \n",
        "\n",
        "* drop missing values \n",
        "*  drop duplicated values \n",
        "* remove negative and 0 quantites and price "
      ]
    },
    {
      "cell_type": "markdown",
      "metadata": {
        "id": "Clk5r9G9j9yg"
      },
      "source": [
        "**Drop missing values:**"
      ]
    },
    {
      "cell_type": "code",
      "metadata": {
        "id": "WnVEZrVgj63t"
      },
      "source": [
        "#drop missing values\n",
        "transactions.dropna (axis=0, inplace= True) \n"
      ],
      "execution_count": 479,
      "outputs": []
    },
    {
      "cell_type": "markdown",
      "metadata": {
        "id": "Spw1QnI5n4QV"
      },
      "source": [
        "**Drop duplicated values:**"
      ]
    },
    {
      "cell_type": "code",
      "metadata": {
        "id": "BYCE7j-Inw_3"
      },
      "source": [
        "transactions.drop_duplicates(keep=False,inplace=True)  #drop duplicated values \n"
      ],
      "execution_count": 480,
      "outputs": []
    },
    {
      "cell_type": "markdown",
      "metadata": {
        "id": "VIsgTFAkycxb"
      },
      "source": [
        " **Remove negative and zero quantities and prices:**"
      ]
    },
    {
      "cell_type": "code",
      "metadata": {
        "id": "A1lkdGfqA2dC"
      },
      "source": [
        "# Remove negative and 0 quantities and prices\n",
        "transactions= transactions[transactions['Quantity']>0]\n",
        "transactions= transactions[transactions['UnitPrice']>0]"
      ],
      "execution_count": 482,
      "outputs": []
    },
    {
      "cell_type": "markdown",
      "metadata": {
        "id": "jza9jR-1Dr2Z"
      },
      "source": [
        "**we show here the top 20 countries of most records in data:**"
      ]
    },
    {
      "cell_type": "code",
      "metadata": {
        "colab": {
          "base_uri": "https://localhost:8080/"
        },
        "id": "1OCMW4NWBV2p",
        "outputId": "529de185-abb6-4072-a4c2-155f95264f33"
      },
      "source": [
        "#show the top 20 countires of the most records \n",
        "# UK has maximum records of transactions\n",
        "\n",
        "countries= transactions.Country.value_counts()\n",
        "countries.head(20)\n"
      ],
      "execution_count": 483,
      "outputs": [
        {
          "output_type": "execute_result",
          "data": {
            "text/plain": [
              "United Kingdom     344466\n",
              "Germany              9010\n",
              "France               8311\n",
              "EIRE                 7216\n",
              "Spain                2474\n",
              "Netherlands          2359\n",
              "Belgium              2031\n",
              "Switzerland          1841\n",
              "Portugal             1445\n",
              "Australia            1180\n",
              "Norway               1071\n",
              "Italy                 758\n",
              "Channel Islands       746\n",
              "Finland               685\n",
              "Cyprus                593\n",
              "Sweden                449\n",
              "Austria               398\n",
              "Denmark               380\n",
              "Poland                330\n",
              "Japan                 321\n",
              "Name: Country, dtype: int64"
            ]
          },
          "metadata": {
            "tags": []
          },
          "execution_count": 483
        }
      ]
    },
    {
      "cell_type": "markdown",
      "metadata": {
        "id": "TfmifAnvnfvu"
      },
      "source": [
        "**visualization of the top 20 of most countries of records:** "
      ]
    },
    {
      "cell_type": "code",
      "metadata": {
        "colab": {
          "base_uri": "https://localhost:8080/",
          "height": 477
        },
        "id": "6elgWyGeGRXL",
        "outputId": "e4673f76-b6c8-421d-fece-01f9f45c4450"
      },
      "source": [
        "plt.figure(figsize=(7,6)) #plot the top countries of the most records \n",
        "countries.head(20).plot(kind='bar')\n",
        "plt.title('Top Countries')"
      ],
      "execution_count": 484,
      "outputs": [
        {
          "output_type": "execute_result",
          "data": {
            "text/plain": [
              "Text(0.5, 1.0, 'Top Countries')"
            ]
          },
          "metadata": {
            "tags": []
          },
          "execution_count": 484
        },
        {
          "output_type": "display_data",
          "data": {
            "image/png": "[encoded data removed]",
            "text/plain": [
              "<Figure size 504x432 with 1 Axes>"
            ]
          },
          "metadata": {
            "tags": [],
            "needs_background": "light"
          }
        }
      ]
    },
    {
      "cell_type": "markdown",
      "metadata": {
        "id": "sInKbJ42G06E"
      },
      "source": [
        "as we see that United Kindom has the most records among countries so we choose uk to do RFM analysis "
      ]
    },
    {
      "cell_type": "code",
      "metadata": {
        "id": "v0Z6g6xWG5kW"
      },
      "source": [
        "uk_transactions = transactions[transactions['Country']=='United Kingdom'] #choose united kingdom "
      ],
      "execution_count": 485,
      "outputs": []
    },
    {
      "cell_type": "markdown",
      "metadata": {
        "id": "YE2VrTEjht47"
      },
      "source": [
        "**Explore and visualize the most sold products in United Kingdom:**"
      ]
    },
    {
      "cell_type": "code",
      "metadata": {
        "colab": {
          "base_uri": "https://localhost:8080/"
        },
        "id": "PDQL72VLHvDH",
        "outputId": "6a932e73-8e2b-4cb5-cf81-b448e8c0cd1a"
      },
      "source": [
        "#explore and visualize the most sold products in United Kingdom\n",
        "most_sold = uk_transactions['Description'].value_counts().head(15)\n",
        "\n",
        "print('Most Sold Products: \\n')\n",
        "print(most_sold)"
      ],
      "execution_count": 486,
      "outputs": [
        {
          "output_type": "stream",
          "text": [
            "Most Sold Products: \n",
            "\n",
            "WHITE HANGING HEART T-LIGHT HOLDER    1919\n",
            "JUMBO BAG RED RETROSPOT               1458\n",
            "REGENCY CAKESTAND 3 TIER              1408\n",
            "ASSORTED COLOUR BIRD ORNAMENT         1307\n",
            "PARTY BUNTING                         1293\n",
            "LUNCH BAG RED RETROSPOT               1123\n",
            "SET OF 3 CAKE TINS PANTRY DESIGN      1007\n",
            "LUNCH BAG  BLACK SKULL.                999\n",
            "PAPER CHAIN KIT 50'S CHRISTMAS         954\n",
            "HEART OF WICKER SMALL                  940\n",
            "NATURAL SLATE HEART CHALKBOARD         935\n",
            "SPOTTY BUNTING                         916\n",
            "LUNCH BAG CARS BLUE                    881\n",
            "LUNCH BAG SPACEBOY DESIGN              863\n",
            "WOODEN PICTURE FRAME WHITE FINISH      855\n",
            "Name: Description, dtype: int64\n"
          ],
          "name": "stdout"
        }
      ]
    },
    {
      "cell_type": "code",
      "metadata": {
        "colab": {
          "base_uri": "https://localhost:8080/",
          "height": 495
        },
        "id": "uTsZUtoKyErZ",
        "outputId": "583ba801-0305-490c-c0e7-54d660016beb"
      },
      "source": [
        "plt = most_sold.plot(kind='barh', figsize=(8, 7))\n",
        " # Set x-axis label\n",
        "plt.set_xlabel(\"Quantity\", labelpad=20, size=12)\n",
        "\n",
        "  # Set y-axis label\n",
        "plt.set_ylabel(\"Description\", labelpad=20, size=12)\n",
        "\n",
        "\n",
        "plt.set_title('Most Sold Products from United Kingdom Customers', fontsize= 14)"
      ],
      "execution_count": 487,
      "outputs": [
        {
          "output_type": "execute_result",
          "data": {
            "text/plain": [
              "Text(0.5, 1.0, 'Most Sold Products from United Kingdom Customers')"
            ]
          },
          "metadata": {
            "tags": []
          },
          "execution_count": 487
        },
        {
          "output_type": "display_data",
          "data": {
            "image/png": "[encoded data removed]",
            "text/plain": [
              "<Figure size 576x504 with 1 Axes>"
            ]
          },
          "metadata": {
            "tags": [],
            "needs_background": "light"
          }
        }
      ]
    },
    {
      "cell_type": "markdown",
      "metadata": {
        "id": "T6OKum_iIlaL"
      },
      "source": [
        "**RFM analysis:**\n",
        "\n",
        "Steps of RFM(Recency, Frequency, Monetary):\n",
        "\n",
        "* Calculate the Recency, Frequency, Monetary values for each customer.\n",
        "* Add segment bin values to RFM table using quartile.\n",
        "* Sort the customer RFM score in ascending order.\n",
        "\n"
      ]
    },
    {
      "cell_type": "markdown",
      "metadata": {
        "id": "bsD8jtPM0917"
      },
      "source": [
        "select the columns we need for RFM analysis \n",
        "which are CustomerID , Invoice No, Inovice Date, Quantity  Unit price : "
      ]
    },
    {
      "cell_type": "code",
      "metadata": {
        "id": "tYMuAlfzJeAx"
      },
      "source": [
        "uk_transactions= uk_transactions[['CustomerID','InvoiceDate','InvoiceNo','Quantity','UnitPrice']]\n"
      ],
      "execution_count": 488,
      "outputs": []
    },
    {
      "cell_type": "markdown",
      "metadata": {
        "id": "RMPgrKR4BAsK"
      },
      "source": [
        "add new column \"Amount\" to calculate the total purchased amount by multiplying Unitprice by Quantity: "
      ]
    },
    {
      "cell_type": "code",
      "metadata": {
        "id": "WRRdymFgU3h5"
      },
      "source": [
        "uk_transactions['Amount'] = uk_transactions['Quantity'] * uk_transactions['UnitPrice']\n"
      ],
      "execution_count": 489,
      "outputs": []
    },
    {
      "cell_type": "markdown",
      "metadata": {
        "id": "D1GI79kcCMT3"
      },
      "source": [
        "check the first day purchase and last day purchase: "
      ]
    },
    {
      "cell_type": "code",
      "metadata": {
        "colab": {
          "base_uri": "https://localhost:8080/"
        },
        "id": "oXTPjPjEXpJe",
        "outputId": "4d2e7b63-83db-4d80-cd6c-c0d41236cd4d"
      },
      "source": [
        "#check the first day purchase and last day purchase\n",
        "uk_transactions['InvoiceDate'].min(),uk_transactions['InvoiceDate'].max()"
      ],
      "execution_count": 490,
      "outputs": [
        {
          "output_type": "execute_result",
          "data": {
            "text/plain": [
              "(Timestamp('2010-12-01 08:26:00'), Timestamp('2011-12-09 12:49:00'))"
            ]
          },
          "metadata": {
            "tags": []
          },
          "execution_count": 490
        }
      ]
    },
    {
      "cell_type": "code",
      "metadata": {
        "id": "BWkFerEPXx53"
      },
      "source": [
        "PRESENT = dt.datetime(2011,12,10)\n",
        "uk_transactions['InvoiceDate'] = pd.to_datetime(uk_transactions['InvoiceDate'])"
      ],
      "execution_count": 491,
      "outputs": []
    },
    {
      "cell_type": "code",
      "metadata": {
        "colab": {
          "base_uri": "https://localhost:8080/",
          "height": 204
        },
        "id": "uZB2M3b5Yhm2",
        "outputId": "94d5948e-487a-445c-a8ec-b7969b3c940b"
      },
      "source": [
        "uk_transactions.head()"
      ],
      "execution_count": 492,
      "outputs": [
        {
          "output_type": "execute_result",
          "data": {
            "text/html": [
              "<div>\n",
              "<style scoped>\n",
              "    .dataframe tbody tr th:only-of-type {\n",
              "        vertical-align: middle;\n",
              "    }\n",
              "\n",
              "    .dataframe tbody tr th {\n",
              "        vertical-align: top;\n",
              "    }\n",
              "\n",
              "    .dataframe thead th {\n",
              "        text-align: right;\n",
              "    }\n",
              "</style>\n",
              "<table border=\"1\" class=\"dataframe\">\n",
              "  <thead>\n",
              "    <tr style=\"text-align: right;\">\n",
              "      <th></th>\n",
              "      <th>CustomerID</th>\n",
              "      <th>InvoiceDate</th>\n",
              "      <th>InvoiceNo</th>\n",
              "      <th>Quantity</th>\n",
              "      <th>UnitPrice</th>\n",
              "      <th>Amount</th>\n",
              "    </tr>\n",
              "  </thead>\n",
              "  <tbody>\n",
              "    <tr>\n",
              "      <th>0</th>\n",
              "      <td>17850.0</td>\n",
              "      <td>2010-12-01 08:26:00</td>\n",
              "      <td>536365</td>\n",
              "      <td>6</td>\n",
              "      <td>2.55</td>\n",
              "      <td>15.30</td>\n",
              "    </tr>\n",
              "    <tr>\n",
              "      <th>1</th>\n",
              "      <td>17850.0</td>\n",
              "      <td>2010-12-01 08:26:00</td>\n",
              "      <td>536365</td>\n",
              "      <td>6</td>\n",
              "      <td>3.39</td>\n",
              "      <td>20.34</td>\n",
              "    </tr>\n",
              "    <tr>\n",
              "      <th>2</th>\n",
              "      <td>17850.0</td>\n",
              "      <td>2010-12-01 08:26:00</td>\n",
              "      <td>536365</td>\n",
              "      <td>8</td>\n",
              "      <td>2.75</td>\n",
              "      <td>22.00</td>\n",
              "    </tr>\n",
              "    <tr>\n",
              "      <th>3</th>\n",
              "      <td>17850.0</td>\n",
              "      <td>2010-12-01 08:26:00</td>\n",
              "      <td>536365</td>\n",
              "      <td>6</td>\n",
              "      <td>3.39</td>\n",
              "      <td>20.34</td>\n",
              "    </tr>\n",
              "    <tr>\n",
              "      <th>4</th>\n",
              "      <td>17850.0</td>\n",
              "      <td>2010-12-01 08:26:00</td>\n",
              "      <td>536365</td>\n",
              "      <td>6</td>\n",
              "      <td>3.39</td>\n",
              "      <td>20.34</td>\n",
              "    </tr>\n",
              "  </tbody>\n",
              "</table>\n",
              "</div>"
            ],
            "text/plain": [
              "   CustomerID         InvoiceDate InvoiceNo  Quantity  UnitPrice  Amount\n",
              "0     17850.0 2010-12-01 08:26:00    536365         6       2.55   15.30\n",
              "1     17850.0 2010-12-01 08:26:00    536365         6       3.39   20.34\n",
              "2     17850.0 2010-12-01 08:26:00    536365         8       2.75   22.00\n",
              "3     17850.0 2010-12-01 08:26:00    536365         6       3.39   20.34\n",
              "4     17850.0 2010-12-01 08:26:00    536365         6       3.39   20.34"
            ]
          },
          "metadata": {
            "tags": []
          },
          "execution_count": 492
        }
      ]
    },
    {
      "cell_type": "code",
      "metadata": {
        "id": "oioyPmswY45Y"
      },
      "source": [
        "rfm= uk_transactions.groupby('CustomerID').agg({'InvoiceDate': lambda date: (PRESENT - date.max()).days,\n",
        "                                        'InvoiceNo': lambda num: len(num),\n",
        "                                        'Amount': lambda price: price.sum()})"
      ],
      "execution_count": 493,
      "outputs": []
    },
    {
      "cell_type": "code",
      "metadata": {
        "colab": {
          "base_uri": "https://localhost:8080/"
        },
        "id": "uvrdVFF7ZD7C",
        "outputId": "5b8edaba-b540-4425-cc78-0b0860beca4a"
      },
      "source": [
        "rfm.columns"
      ],
      "execution_count": 494,
      "outputs": [
        {
          "output_type": "execute_result",
          "data": {
            "text/plain": [
              "Index(['InvoiceDate', 'InvoiceNo', 'Amount'], dtype='object')"
            ]
          },
          "metadata": {
            "tags": []
          },
          "execution_count": 494
        }
      ]
    },
    {
      "cell_type": "markdown",
      "metadata": {
        "id": "5DSoNgJHgosS"
      },
      "source": [
        "Calculate the Recency, Frequency, Monetary values for each customer:"
      ]
    },
    {
      "cell_type": "code",
      "metadata": {
        "id": "K1vs3gpNZIsN"
      },
      "source": [
        "# Change the name of columns\n",
        "rfm.columns=['monetary','frequency','recency']"
      ],
      "execution_count": 495,
      "outputs": []
    },
    {
      "cell_type": "code",
      "metadata": {
        "id": "OyU7PE5XZM2X"
      },
      "source": [
        "rfm['recency'] = rfm['recency'].astype(int)"
      ],
      "execution_count": 496,
      "outputs": []
    },
    {
      "cell_type": "code",
      "metadata": {
        "id": "TxEV5bek87Gs"
      },
      "source": [
        "# Filter out non repeat customers\n",
        "rfm = rfm[rfm['frequency']>0]"
      ],
      "execution_count": 497,
      "outputs": []
    },
    {
      "cell_type": "code",
      "metadata": {
        "id": "Ak-caIQO8_A1"
      },
      "source": [
        "# Filter out monetary outliers\n",
        "rfm = rfm[rfm['monetary']<2000]"
      ],
      "execution_count": 498,
      "outputs": []
    },
    {
      "cell_type": "code",
      "metadata": {
        "colab": {
          "base_uri": "https://localhost:8080/",
          "height": 235
        },
        "id": "kxCGRLUmZPrp",
        "outputId": "be9aabda-e12c-41d3-cbb7-10d601d821b4"
      },
      "source": [
        "rfm.head()"
      ],
      "execution_count": 499,
      "outputs": [
        {
          "output_type": "execute_result",
          "data": {
            "text/html": [
              "<div>\n",
              "<style scoped>\n",
              "    .dataframe tbody tr th:only-of-type {\n",
              "        vertical-align: middle;\n",
              "    }\n",
              "\n",
              "    .dataframe tbody tr th {\n",
              "        vertical-align: top;\n",
              "    }\n",
              "\n",
              "    .dataframe thead th {\n",
              "        text-align: right;\n",
              "    }\n",
              "</style>\n",
              "<table border=\"1\" class=\"dataframe\">\n",
              "  <thead>\n",
              "    <tr style=\"text-align: right;\">\n",
              "      <th></th>\n",
              "      <th>monetary</th>\n",
              "      <th>frequency</th>\n",
              "      <th>recency</th>\n",
              "    </tr>\n",
              "    <tr>\n",
              "      <th>CustomerID</th>\n",
              "      <th></th>\n",
              "      <th></th>\n",
              "      <th></th>\n",
              "    </tr>\n",
              "  </thead>\n",
              "  <tbody>\n",
              "    <tr>\n",
              "      <th>12346.0</th>\n",
              "      <td>325</td>\n",
              "      <td>1</td>\n",
              "      <td>77183</td>\n",
              "    </tr>\n",
              "    <tr>\n",
              "      <th>12747.0</th>\n",
              "      <td>2</td>\n",
              "      <td>103</td>\n",
              "      <td>4196</td>\n",
              "    </tr>\n",
              "    <tr>\n",
              "      <th>12748.0</th>\n",
              "      <td>0</td>\n",
              "      <td>4242</td>\n",
              "      <td>32449</td>\n",
              "    </tr>\n",
              "    <tr>\n",
              "      <th>12749.0</th>\n",
              "      <td>3</td>\n",
              "      <td>199</td>\n",
              "      <td>4090</td>\n",
              "    </tr>\n",
              "    <tr>\n",
              "      <th>12820.0</th>\n",
              "      <td>3</td>\n",
              "      <td>59</td>\n",
              "      <td>942</td>\n",
              "    </tr>\n",
              "  </tbody>\n",
              "</table>\n",
              "</div>"
            ],
            "text/plain": [
              "            monetary  frequency  recency\n",
              "CustomerID                              \n",
              "12346.0          325          1    77183\n",
              "12747.0            2        103     4196\n",
              "12748.0            0       4242    32449\n",
              "12749.0            3        199     4090\n",
              "12820.0            3         59      942"
            ]
          },
          "metadata": {
            "tags": []
          },
          "execution_count": 499
        }
      ]
    },
    {
      "cell_type": "markdown",
      "metadata": {
        "id": "T5hZepKEg2Hj"
      },
      "source": [
        " Add segment bin values to RFM table using quartile:"
      ]
    },
    {
      "cell_type": "code",
      "metadata": {
        "colab": {
          "base_uri": "https://localhost:8080/",
          "height": 235
        },
        "id": "ntJCCTUZGO92",
        "outputId": "9e134f08-e967-41e9-f64c-355a3310c23b"
      },
      "source": [
        "# Create the quartiles scores\n",
        "quantiles = rfm.quantile(q=[0.25,0.5,0.75])\n",
        "quantiles = quantiles.to_dict()\n",
        "rfm.head()"
      ],
      "execution_count": 500,
      "outputs": [
        {
          "output_type": "execute_result",
          "data": {
            "text/html": [
              "<div>\n",
              "<style scoped>\n",
              "    .dataframe tbody tr th:only-of-type {\n",
              "        vertical-align: middle;\n",
              "    }\n",
              "\n",
              "    .dataframe tbody tr th {\n",
              "        vertical-align: top;\n",
              "    }\n",
              "\n",
              "    .dataframe thead th {\n",
              "        text-align: right;\n",
              "    }\n",
              "</style>\n",
              "<table border=\"1\" class=\"dataframe\">\n",
              "  <thead>\n",
              "    <tr style=\"text-align: right;\">\n",
              "      <th></th>\n",
              "      <th>monetary</th>\n",
              "      <th>frequency</th>\n",
              "      <th>recency</th>\n",
              "    </tr>\n",
              "    <tr>\n",
              "      <th>CustomerID</th>\n",
              "      <th></th>\n",
              "      <th></th>\n",
              "      <th></th>\n",
              "    </tr>\n",
              "  </thead>\n",
              "  <tbody>\n",
              "    <tr>\n",
              "      <th>12346.0</th>\n",
              "      <td>325</td>\n",
              "      <td>1</td>\n",
              "      <td>77183</td>\n",
              "    </tr>\n",
              "    <tr>\n",
              "      <th>12747.0</th>\n",
              "      <td>2</td>\n",
              "      <td>103</td>\n",
              "      <td>4196</td>\n",
              "    </tr>\n",
              "    <tr>\n",
              "      <th>12748.0</th>\n",
              "      <td>0</td>\n",
              "      <td>4242</td>\n",
              "      <td>32449</td>\n",
              "    </tr>\n",
              "    <tr>\n",
              "      <th>12749.0</th>\n",
              "      <td>3</td>\n",
              "      <td>199</td>\n",
              "      <td>4090</td>\n",
              "    </tr>\n",
              "    <tr>\n",
              "      <th>12820.0</th>\n",
              "      <td>3</td>\n",
              "      <td>59</td>\n",
              "      <td>942</td>\n",
              "    </tr>\n",
              "  </tbody>\n",
              "</table>\n",
              "</div>"
            ],
            "text/plain": [
              "            monetary  frequency  recency\n",
              "CustomerID                              \n",
              "12346.0          325          1    77183\n",
              "12747.0            2        103     4196\n",
              "12748.0            0       4242    32449\n",
              "12749.0            3        199     4090\n",
              "12820.0            3         59      942"
            ]
          },
          "metadata": {
            "tags": []
          },
          "execution_count": 500
        }
      ]
    },
    {
      "cell_type": "code",
      "metadata": {
        "id": "h4gMRaQo9jBe"
      },
      "source": [
        "def RFMScore(x,p,d):\n",
        "    if x <= d[p][0.25]:\n",
        "        return 1\n",
        "    elif x <= d[p][0.50]:\n",
        "        return 2\n",
        "    elif x <= d[p][0.75]: \n",
        "        return 3\n",
        "    else:\n",
        "        return 4\n",
        "    \n",
        "def RFMScore(x,p,d):\n",
        "    if x <= d[p][0.25]:\n",
        "        return 1\n",
        "    elif x <= d[p][0.50]:\n",
        "        return 2\n",
        "    elif x <= d[p][0.75]: \n",
        "        return 3\n",
        "    else:\n",
        "        return 4\n",
        "rfm['R'] = rfm['recency'].apply(RFMScore, args=('recency',quantiles,))\n",
        "rfm['F'] = rfm['frequency'].apply(RFMScore, args=('frequency',quantiles,))\n",
        "rfm['M'] = rfm['monetary'].apply(RFMScore, args=('monetary',quantiles,))"
      ],
      "execution_count": 501,
      "outputs": []
    },
    {
      "cell_type": "code",
      "metadata": {
        "colab": {
          "base_uri": "https://localhost:8080/",
          "height": 235
        },
        "id": "XJjJb7nAGnP0",
        "outputId": "785ce580-d894-41de-ad13-218dac4d9ead"
      },
      "source": [
        "rfm.head()"
      ],
      "execution_count": 502,
      "outputs": [
        {
          "output_type": "execute_result",
          "data": {
            "text/html": [
              "<div>\n",
              "<style scoped>\n",
              "    .dataframe tbody tr th:only-of-type {\n",
              "        vertical-align: middle;\n",
              "    }\n",
              "\n",
              "    .dataframe tbody tr th {\n",
              "        vertical-align: top;\n",
              "    }\n",
              "\n",
              "    .dataframe thead th {\n",
              "        text-align: right;\n",
              "    }\n",
              "</style>\n",
              "<table border=\"1\" class=\"dataframe\">\n",
              "  <thead>\n",
              "    <tr style=\"text-align: right;\">\n",
              "      <th></th>\n",
              "      <th>monetary</th>\n",
              "      <th>frequency</th>\n",
              "      <th>recency</th>\n",
              "      <th>R</th>\n",
              "      <th>F</th>\n",
              "      <th>M</th>\n",
              "    </tr>\n",
              "    <tr>\n",
              "      <th>CustomerID</th>\n",
              "      <th></th>\n",
              "      <th></th>\n",
              "      <th></th>\n",
              "      <th></th>\n",
              "      <th></th>\n",
              "      <th></th>\n",
              "    </tr>\n",
              "  </thead>\n",
              "  <tbody>\n",
              "    <tr>\n",
              "      <th>12346.0</th>\n",
              "      <td>325</td>\n",
              "      <td>1</td>\n",
              "      <td>77183</td>\n",
              "      <td>4</td>\n",
              "      <td>1</td>\n",
              "      <td>4</td>\n",
              "    </tr>\n",
              "    <tr>\n",
              "      <th>12747.0</th>\n",
              "      <td>2</td>\n",
              "      <td>103</td>\n",
              "      <td>4196</td>\n",
              "      <td>4</td>\n",
              "      <td>4</td>\n",
              "      <td>1</td>\n",
              "    </tr>\n",
              "    <tr>\n",
              "      <th>12748.0</th>\n",
              "      <td>0</td>\n",
              "      <td>4242</td>\n",
              "      <td>32449</td>\n",
              "      <td>4</td>\n",
              "      <td>4</td>\n",
              "      <td>1</td>\n",
              "    </tr>\n",
              "    <tr>\n",
              "      <th>12749.0</th>\n",
              "      <td>3</td>\n",
              "      <td>199</td>\n",
              "      <td>4090</td>\n",
              "      <td>4</td>\n",
              "      <td>4</td>\n",
              "      <td>1</td>\n",
              "    </tr>\n",
              "    <tr>\n",
              "      <th>12820.0</th>\n",
              "      <td>3</td>\n",
              "      <td>59</td>\n",
              "      <td>942</td>\n",
              "      <td>3</td>\n",
              "      <td>3</td>\n",
              "      <td>1</td>\n",
              "    </tr>\n",
              "  </tbody>\n",
              "</table>\n",
              "</div>"
            ],
            "text/plain": [
              "            monetary  frequency  recency  R  F  M\n",
              "CustomerID                                       \n",
              "12346.0          325          1    77183  4  1  4\n",
              "12747.0            2        103     4196  4  4  1\n",
              "12748.0            0       4242    32449  4  4  1\n",
              "12749.0            3        199     4090  4  4  1\n",
              "12820.0            3         59      942  3  3  1"
            ]
          },
          "metadata": {
            "tags": []
          },
          "execution_count": 502
        }
      ]
    },
    {
      "cell_type": "code",
      "metadata": {
        "id": "g7QDIfqL9uda"
      },
      "source": [
        "# Concat RFM quartile values to create RFM Segments\n",
        "def join_rfm(x): return str(x['R']) + str(x['F']) + str(x['M'])\n",
        "rfm['RFM_Segment'] = rfm.apply(join_rfm, axis=1)"
      ],
      "execution_count": 503,
      "outputs": []
    },
    {
      "cell_type": "code",
      "metadata": {
        "id": "ZcoSgmSG-Mh6"
      },
      "source": [
        "# Calculate RFM_Score\n",
        "rfm['RFM_Score'] = rfm[['R','F','M']].sum(axis=1)"
      ],
      "execution_count": 504,
      "outputs": []
    },
    {
      "cell_type": "code",
      "metadata": {
        "colab": {
          "base_uri": "https://localhost:8080/",
          "height": 235
        },
        "id": "7oXClBJKGs4h",
        "outputId": "5db293bb-6bef-4f03-a1d2-abb178dbfaee"
      },
      "source": [
        "rfm.head()"
      ],
      "execution_count": 505,
      "outputs": [
        {
          "output_type": "execute_result",
          "data": {
            "text/html": [
              "<div>\n",
              "<style scoped>\n",
              "    .dataframe tbody tr th:only-of-type {\n",
              "        vertical-align: middle;\n",
              "    }\n",
              "\n",
              "    .dataframe tbody tr th {\n",
              "        vertical-align: top;\n",
              "    }\n",
              "\n",
              "    .dataframe thead th {\n",
              "        text-align: right;\n",
              "    }\n",
              "</style>\n",
              "<table border=\"1\" class=\"dataframe\">\n",
              "  <thead>\n",
              "    <tr style=\"text-align: right;\">\n",
              "      <th></th>\n",
              "      <th>monetary</th>\n",
              "      <th>frequency</th>\n",
              "      <th>recency</th>\n",
              "      <th>R</th>\n",
              "      <th>F</th>\n",
              "      <th>M</th>\n",
              "      <th>RFM_Segment</th>\n",
              "      <th>RFM_Score</th>\n",
              "    </tr>\n",
              "    <tr>\n",
              "      <th>CustomerID</th>\n",
              "      <th></th>\n",
              "      <th></th>\n",
              "      <th></th>\n",
              "      <th></th>\n",
              "      <th></th>\n",
              "      <th></th>\n",
              "      <th></th>\n",
              "      <th></th>\n",
              "    </tr>\n",
              "  </thead>\n",
              "  <tbody>\n",
              "    <tr>\n",
              "      <th>12346.0</th>\n",
              "      <td>325</td>\n",
              "      <td>1</td>\n",
              "      <td>77183</td>\n",
              "      <td>4</td>\n",
              "      <td>1</td>\n",
              "      <td>4</td>\n",
              "      <td>414</td>\n",
              "      <td>9</td>\n",
              "    </tr>\n",
              "    <tr>\n",
              "      <th>12747.0</th>\n",
              "      <td>2</td>\n",
              "      <td>103</td>\n",
              "      <td>4196</td>\n",
              "      <td>4</td>\n",
              "      <td>4</td>\n",
              "      <td>1</td>\n",
              "      <td>441</td>\n",
              "      <td>9</td>\n",
              "    </tr>\n",
              "    <tr>\n",
              "      <th>12748.0</th>\n",
              "      <td>0</td>\n",
              "      <td>4242</td>\n",
              "      <td>32449</td>\n",
              "      <td>4</td>\n",
              "      <td>4</td>\n",
              "      <td>1</td>\n",
              "      <td>441</td>\n",
              "      <td>9</td>\n",
              "    </tr>\n",
              "    <tr>\n",
              "      <th>12749.0</th>\n",
              "      <td>3</td>\n",
              "      <td>199</td>\n",
              "      <td>4090</td>\n",
              "      <td>4</td>\n",
              "      <td>4</td>\n",
              "      <td>1</td>\n",
              "      <td>441</td>\n",
              "      <td>9</td>\n",
              "    </tr>\n",
              "    <tr>\n",
              "      <th>12820.0</th>\n",
              "      <td>3</td>\n",
              "      <td>59</td>\n",
              "      <td>942</td>\n",
              "      <td>3</td>\n",
              "      <td>3</td>\n",
              "      <td>1</td>\n",
              "      <td>331</td>\n",
              "      <td>7</td>\n",
              "    </tr>\n",
              "  </tbody>\n",
              "</table>\n",
              "</div>"
            ],
            "text/plain": [
              "            monetary  frequency  recency  R  F  M RFM_Segment  RFM_Score\n",
              "CustomerID                                                              \n",
              "12346.0          325          1    77183  4  1  4         414          9\n",
              "12747.0            2        103     4196  4  4  1         441          9\n",
              "12748.0            0       4242    32449  4  4  1         441          9\n",
              "12749.0            3        199     4090  4  4  1         441          9\n",
              "12820.0            3         59      942  3  3  1         331          7"
            ]
          },
          "metadata": {
            "tags": []
          },
          "execution_count": 505
        }
      ]
    },
    {
      "cell_type": "code",
      "metadata": {
        "id": "3jpuSjYr-bJm"
      },
      "source": [
        "# Create human friendly RFM labels\n",
        "segt_map = {\n",
        "    r'[1-2][1-2]': 'Hibernating',\n",
        "    r'[1-2][2-3]': 'At risk',\n",
        "    r'[1-2]4': 'Can\\'t loose them',\n",
        "    r'2[1-2]': 'About to sleep',\n",
        "    r'22': 'Need attention',\n",
        "    r'[2-3][3-4]': 'Loyal customers',\n",
        "    r'31': 'Promising',\n",
        "    r'41': 'New customers',\n",
        "    r'[3-4][1-2]': 'Potential loyalists',\n",
        "    r'4[3-4]': 'Champions'\n",
        "}\n",
        "rfm['Segment'] = rfm['R'].map(str) + rfm['F'].map(str)\n",
        "rfm['Segment'] = rfm['Segment'].replace(segt_map, regex=True)"
      ],
      "execution_count": 506,
      "outputs": []
    },
    {
      "cell_type": "code",
      "metadata": {
        "colab": {
          "base_uri": "https://localhost:8080/",
          "height": 235
        },
        "id": "TeJfm3BZHR42",
        "outputId": "c0f2d863-caeb-45e4-fb18-4ab4bf9ea7e6"
      },
      "source": [
        "rfm.head()"
      ],
      "execution_count": 507,
      "outputs": [
        {
          "output_type": "execute_result",
          "data": {
            "text/html": [
              "<div>\n",
              "<style scoped>\n",
              "    .dataframe tbody tr th:only-of-type {\n",
              "        vertical-align: middle;\n",
              "    }\n",
              "\n",
              "    .dataframe tbody tr th {\n",
              "        vertical-align: top;\n",
              "    }\n",
              "\n",
              "    .dataframe thead th {\n",
              "        text-align: right;\n",
              "    }\n",
              "</style>\n",
              "<table border=\"1\" class=\"dataframe\">\n",
              "  <thead>\n",
              "    <tr style=\"text-align: right;\">\n",
              "      <th></th>\n",
              "      <th>monetary</th>\n",
              "      <th>frequency</th>\n",
              "      <th>recency</th>\n",
              "      <th>R</th>\n",
              "      <th>F</th>\n",
              "      <th>M</th>\n",
              "      <th>RFM_Segment</th>\n",
              "      <th>RFM_Score</th>\n",
              "      <th>Segment</th>\n",
              "    </tr>\n",
              "    <tr>\n",
              "      <th>CustomerID</th>\n",
              "      <th></th>\n",
              "      <th></th>\n",
              "      <th></th>\n",
              "      <th></th>\n",
              "      <th></th>\n",
              "      <th></th>\n",
              "      <th></th>\n",
              "      <th></th>\n",
              "      <th></th>\n",
              "    </tr>\n",
              "  </thead>\n",
              "  <tbody>\n",
              "    <tr>\n",
              "      <th>12346.0</th>\n",
              "      <td>325</td>\n",
              "      <td>1</td>\n",
              "      <td>77183</td>\n",
              "      <td>4</td>\n",
              "      <td>1</td>\n",
              "      <td>4</td>\n",
              "      <td>414</td>\n",
              "      <td>9</td>\n",
              "      <td>New customers</td>\n",
              "    </tr>\n",
              "    <tr>\n",
              "      <th>12747.0</th>\n",
              "      <td>2</td>\n",
              "      <td>103</td>\n",
              "      <td>4196</td>\n",
              "      <td>4</td>\n",
              "      <td>4</td>\n",
              "      <td>1</td>\n",
              "      <td>441</td>\n",
              "      <td>9</td>\n",
              "      <td>Champions</td>\n",
              "    </tr>\n",
              "    <tr>\n",
              "      <th>12748.0</th>\n",
              "      <td>0</td>\n",
              "      <td>4242</td>\n",
              "      <td>32449</td>\n",
              "      <td>4</td>\n",
              "      <td>4</td>\n",
              "      <td>1</td>\n",
              "      <td>441</td>\n",
              "      <td>9</td>\n",
              "      <td>Champions</td>\n",
              "    </tr>\n",
              "    <tr>\n",
              "      <th>12749.0</th>\n",
              "      <td>3</td>\n",
              "      <td>199</td>\n",
              "      <td>4090</td>\n",
              "      <td>4</td>\n",
              "      <td>4</td>\n",
              "      <td>1</td>\n",
              "      <td>441</td>\n",
              "      <td>9</td>\n",
              "      <td>Champions</td>\n",
              "    </tr>\n",
              "    <tr>\n",
              "      <th>12820.0</th>\n",
              "      <td>3</td>\n",
              "      <td>59</td>\n",
              "      <td>942</td>\n",
              "      <td>3</td>\n",
              "      <td>3</td>\n",
              "      <td>1</td>\n",
              "      <td>331</td>\n",
              "      <td>7</td>\n",
              "      <td>Loyal customers</td>\n",
              "    </tr>\n",
              "  </tbody>\n",
              "</table>\n",
              "</div>"
            ],
            "text/plain": [
              "            monetary  frequency  ...  RFM_Score          Segment\n",
              "CustomerID                       ...                            \n",
              "12346.0          325          1  ...          9    New customers\n",
              "12747.0            2        103  ...          9        Champions\n",
              "12748.0            0       4242  ...          9        Champions\n",
              "12749.0            3        199  ...          9        Champions\n",
              "12820.0            3         59  ...          7  Loyal customers\n",
              "\n",
              "[5 rows x 9 columns]"
            ]
          },
          "metadata": {
            "tags": []
          },
          "execution_count": 507
        }
      ]
    },
    {
      "cell_type": "code",
      "metadata": {
        "colab": {
          "base_uri": "https://localhost:8080/",
          "height": 235
        },
        "id": "pXYDqxqg-jaj",
        "outputId": "c9231337-cc8e-4aeb-c11e-b6991c4c483a"
      },
      "source": [
        "# List the head of the table to view the \n",
        "rfm.head(5)"
      ],
      "execution_count": 508,
      "outputs": [
        {
          "output_type": "execute_result",
          "data": {
            "text/html": [
              "<div>\n",
              "<style scoped>\n",
              "    .dataframe tbody tr th:only-of-type {\n",
              "        vertical-align: middle;\n",
              "    }\n",
              "\n",
              "    .dataframe tbody tr th {\n",
              "        vertical-align: top;\n",
              "    }\n",
              "\n",
              "    .dataframe thead th {\n",
              "        text-align: right;\n",
              "    }\n",
              "</style>\n",
              "<table border=\"1\" class=\"dataframe\">\n",
              "  <thead>\n",
              "    <tr style=\"text-align: right;\">\n",
              "      <th></th>\n",
              "      <th>monetary</th>\n",
              "      <th>frequency</th>\n",
              "      <th>recency</th>\n",
              "      <th>R</th>\n",
              "      <th>F</th>\n",
              "      <th>M</th>\n",
              "      <th>RFM_Segment</th>\n",
              "      <th>RFM_Score</th>\n",
              "      <th>Segment</th>\n",
              "    </tr>\n",
              "    <tr>\n",
              "      <th>CustomerID</th>\n",
              "      <th></th>\n",
              "      <th></th>\n",
              "      <th></th>\n",
              "      <th></th>\n",
              "      <th></th>\n",
              "      <th></th>\n",
              "      <th></th>\n",
              "      <th></th>\n",
              "      <th></th>\n",
              "    </tr>\n",
              "  </thead>\n",
              "  <tbody>\n",
              "    <tr>\n",
              "      <th>12346.0</th>\n",
              "      <td>325</td>\n",
              "      <td>1</td>\n",
              "      <td>77183</td>\n",
              "      <td>4</td>\n",
              "      <td>1</td>\n",
              "      <td>4</td>\n",
              "      <td>414</td>\n",
              "      <td>9</td>\n",
              "      <td>New customers</td>\n",
              "    </tr>\n",
              "    <tr>\n",
              "      <th>12747.0</th>\n",
              "      <td>2</td>\n",
              "      <td>103</td>\n",
              "      <td>4196</td>\n",
              "      <td>4</td>\n",
              "      <td>4</td>\n",
              "      <td>1</td>\n",
              "      <td>441</td>\n",
              "      <td>9</td>\n",
              "      <td>Champions</td>\n",
              "    </tr>\n",
              "    <tr>\n",
              "      <th>12748.0</th>\n",
              "      <td>0</td>\n",
              "      <td>4242</td>\n",
              "      <td>32449</td>\n",
              "      <td>4</td>\n",
              "      <td>4</td>\n",
              "      <td>1</td>\n",
              "      <td>441</td>\n",
              "      <td>9</td>\n",
              "      <td>Champions</td>\n",
              "    </tr>\n",
              "    <tr>\n",
              "      <th>12749.0</th>\n",
              "      <td>3</td>\n",
              "      <td>199</td>\n",
              "      <td>4090</td>\n",
              "      <td>4</td>\n",
              "      <td>4</td>\n",
              "      <td>1</td>\n",
              "      <td>441</td>\n",
              "      <td>9</td>\n",
              "      <td>Champions</td>\n",
              "    </tr>\n",
              "    <tr>\n",
              "      <th>12820.0</th>\n",
              "      <td>3</td>\n",
              "      <td>59</td>\n",
              "      <td>942</td>\n",
              "      <td>3</td>\n",
              "      <td>3</td>\n",
              "      <td>1</td>\n",
              "      <td>331</td>\n",
              "      <td>7</td>\n",
              "      <td>Loyal customers</td>\n",
              "    </tr>\n",
              "  </tbody>\n",
              "</table>\n",
              "</div>"
            ],
            "text/plain": [
              "            monetary  frequency  ...  RFM_Score          Segment\n",
              "CustomerID                       ...                            \n",
              "12346.0          325          1  ...          9    New customers\n",
              "12747.0            2        103  ...          9        Champions\n",
              "12748.0            0       4242  ...          9        Champions\n",
              "12749.0            3        199  ...          9        Champions\n",
              "12820.0            3         59  ...          7  Loyal customers\n",
              "\n",
              "[5 rows x 9 columns]"
            ]
          },
          "metadata": {
            "tags": []
          },
          "execution_count": 508
        }
      ]
    },
    {
      "cell_type": "code",
      "metadata": {
        "colab": {
          "base_uri": "https://localhost:8080/",
          "height": 247
        },
        "id": "sMak9ic0KK-D",
        "outputId": "a8c490f1-a306-43d7-d7a6-e2f12a4ecda3"
      },
      "source": [
        "#plot \n",
        "plt.figure(figsize=(24,5))\n",
        "ax = sns.countplot(x=\"Segment\", data=rfm)"
      ],
      "execution_count": 513,
      "outputs": [
        {
          "output_type": "display_data",
          "data": {
            "image/png": "[encoded data removed]",
            "text/plain": [
              "<Figure size 1728x360 with 1 Axes>"
            ]
          },
          "metadata": {
            "tags": [],
            "needs_background": "light"
          }
        }
      ]
    }
  ]
}