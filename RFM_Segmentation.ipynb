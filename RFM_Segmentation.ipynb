{
  "nbformat": 4,
  "nbformat_minor": 0,
  "metadata": {
    "colab": {
      "name": "RFM Segmentation.ipynb",
      "provenance": [],
      "collapsed_sections": [
        "hHDiKqk_4u3Y"
      ],
      "toc_visible": true,
      "authorship_tag": "ABX9TyNc4YTMeyiB1g6EATcL69QD",
      "include_colab_link": true
    },
    "kernelspec": {
      "name": "python3",
      "display_name": "Python 3"
    }
  },
  "cells": [
    {
      "cell_type": "markdown",
      "metadata": {
        "id": "view-in-github",
        "colab_type": "text"
      },
      "source": [
        "<a href=\"https://colab.research.google.com/github/tahani319/DS_Capstone_RFM_Analysis/blob/main/RFM_Segmentation.ipynb\" target=\"_parent\"><img src=\"https://colab.research.google.com/assets/colab-badge.svg\" alt=\"Open In Colab\"/></a>"
      ]
    },
    {
      "cell_type": "markdown",
      "metadata": {
        "id": "jC-gPuDt-dZk"
      },
      "source": [
        "\n",
        "**Data Set Information:**\n",
        "\n",
        "This Online Retail II data set contains all the transactions occurring for a UK-based and registered, non-store online retail between 01.12.2010 and 09.12.2011.\n",
        "\n",
        "The company mainly sells unique all-occasion gift-ware. Many customers of the company are wholesalers. \n",
        "https://archive.ics.uci.edu/ml/datasets/online+retail\n",
        "\n",
        "\n",
        "**Attribute Information:**\n",
        "\n",
        "* InvoiceNo: Invoice number. Nominal. A 6-digit integral\n",
        "* number uniquely assigned to each transaction. If this code starts with the letter 'c', it indicates a cancellation.\n",
        "* StockCode: Product (item) code. Nominal. A 5-digit integral number uniquely assigned to each distinct product.\n",
        "* Description: Product (item) name. Nominal.\n",
        "* Quantity: The quantities of each product (item) per transaction. Numeric.\n",
        "* InvoiceDate: Invice date and time. Numeric. The day and time when a transaction was generated.\n",
        "* UnitPrice: Unit price. Numeric. Product price per unit in sterling (Â£).\n",
        "* CustomerID: Customer number. Nominal. A 5-digit integral number uniquely assigned to each customer.\n",
        "* Country: Country name. Nominal. The name of the country where a customer resides.\n",
        "\n",
        "\n",
        "\n"
      ]
    },
    {
      "cell_type": "markdown",
      "metadata": {
        "id": "uOhEAUX--qn5"
      },
      "source": [
        "**Import libraries**"
      ]
    },
    {
      "cell_type": "code",
      "metadata": {
        "id": "_h5B3jItw84o"
      },
      "source": [
        "#import libraries\n",
        "\n",
        "import pandas as pd # for dataframes\n",
        "import numpy as np\n",
        "import seaborn as sns #for gaphs \n",
        "import matplotlib.pyplot as plt # for plotting graphs\n",
        "import datetime as dt \n",
        "import missingno as msno # to visualise missing values "
      ],
      "execution_count": 214,
      "outputs": []
    },
    {
      "cell_type": "markdown",
      "metadata": {
        "id": "rjSna_Qq-ud3"
      },
      "source": [
        "**Data:**"
      ]
    },
    {
      "cell_type": "code",
      "metadata": {
        "id": "OiVYqKKsyc5D"
      },
      "source": [
        "transactions = pd.read_excel('onlineretail.xlsx') #read data "
      ],
      "execution_count": 176,
      "outputs": []
    },
    {
      "cell_type": "markdown",
      "metadata": {
        "id": "kJQn1NF8BIF3"
      },
      "source": [
        "#### **Explore Data:**"
      ]
    },
    {
      "cell_type": "markdown",
      "metadata": {
        "id": "NiyTuub4-4l4"
      },
      "source": [
        "**Data head:**"
      ]
    },
    {
      "cell_type": "code",
      "metadata": {
        "colab": {
          "base_uri": "https://localhost:8080/",
          "height": 289
        },
        "id": "-qSXyHyGyq6I",
        "outputId": "7a09d13d-9a00-4e4b-801a-685de0bc6c7f"
      },
      "source": [
        "transactions.head() #see the first rows of data "
      ],
      "execution_count": 177,
      "outputs": [
        {
          "output_type": "execute_result",
          "data": {
            "text/html": [
              "<div>\n",
              "<style scoped>\n",
              "    .dataframe tbody tr th:only-of-type {\n",
              "        vertical-align: middle;\n",
              "    }\n",
              "\n",
              "    .dataframe tbody tr th {\n",
              "        vertical-align: top;\n",
              "    }\n",
              "\n",
              "    .dataframe thead th {\n",
              "        text-align: right;\n",
              "    }\n",
              "</style>\n",
              "<table border=\"1\" class=\"dataframe\">\n",
              "  <thead>\n",
              "    <tr style=\"text-align: right;\">\n",
              "      <th></th>\n",
              "      <th>InvoiceNo</th>\n",
              "      <th>StockCode</th>\n",
              "      <th>Description</th>\n",
              "      <th>Quantity</th>\n",
              "      <th>InvoiceDate</th>\n",
              "      <th>UnitPrice</th>\n",
              "      <th>CustomerID</th>\n",
              "      <th>Country</th>\n",
              "    </tr>\n",
              "  </thead>\n",
              "  <tbody>\n",
              "    <tr>\n",
              "      <th>0</th>\n",
              "      <td>536365</td>\n",
              "      <td>85123A</td>\n",
              "      <td>WHITE HANGING HEART T-LIGHT HOLDER</td>\n",
              "      <td>6</td>\n",
              "      <td>2010-12-01 08:26:00</td>\n",
              "      <td>2.55</td>\n",
              "      <td>17850.0</td>\n",
              "      <td>United Kingdom</td>\n",
              "    </tr>\n",
              "    <tr>\n",
              "      <th>1</th>\n",
              "      <td>536365</td>\n",
              "      <td>71053</td>\n",
              "      <td>WHITE METAL LANTERN</td>\n",
              "      <td>6</td>\n",
              "      <td>2010-12-01 08:26:00</td>\n",
              "      <td>3.39</td>\n",
              "      <td>17850.0</td>\n",
              "      <td>United Kingdom</td>\n",
              "    </tr>\n",
              "    <tr>\n",
              "      <th>2</th>\n",
              "      <td>536365</td>\n",
              "      <td>84406B</td>\n",
              "      <td>CREAM CUPID HEARTS COAT HANGER</td>\n",
              "      <td>8</td>\n",
              "      <td>2010-12-01 08:26:00</td>\n",
              "      <td>2.75</td>\n",
              "      <td>17850.0</td>\n",
              "      <td>United Kingdom</td>\n",
              "    </tr>\n",
              "    <tr>\n",
              "      <th>3</th>\n",
              "      <td>536365</td>\n",
              "      <td>84029G</td>\n",
              "      <td>KNITTED UNION FLAG HOT WATER BOTTLE</td>\n",
              "      <td>6</td>\n",
              "      <td>2010-12-01 08:26:00</td>\n",
              "      <td>3.39</td>\n",
              "      <td>17850.0</td>\n",
              "      <td>United Kingdom</td>\n",
              "    </tr>\n",
              "    <tr>\n",
              "      <th>4</th>\n",
              "      <td>536365</td>\n",
              "      <td>84029E</td>\n",
              "      <td>RED WOOLLY HOTTIE WHITE HEART.</td>\n",
              "      <td>6</td>\n",
              "      <td>2010-12-01 08:26:00</td>\n",
              "      <td>3.39</td>\n",
              "      <td>17850.0</td>\n",
              "      <td>United Kingdom</td>\n",
              "    </tr>\n",
              "  </tbody>\n",
              "</table>\n",
              "</div>"
            ],
            "text/plain": [
              "  InvoiceNo StockCode  ... CustomerID         Country\n",
              "0    536365    85123A  ...    17850.0  United Kingdom\n",
              "1    536365     71053  ...    17850.0  United Kingdom\n",
              "2    536365    84406B  ...    17850.0  United Kingdom\n",
              "3    536365    84029G  ...    17850.0  United Kingdom\n",
              "4    536365    84029E  ...    17850.0  United Kingdom\n",
              "\n",
              "[5 rows x 8 columns]"
            ]
          },
          "metadata": {
            "tags": []
          },
          "execution_count": 177
        }
      ]
    },
    {
      "cell_type": "markdown",
      "metadata": {
        "id": "CdsUo_L8-656"
      },
      "source": [
        "**Data tail:**"
      ]
    },
    {
      "cell_type": "code",
      "metadata": {
        "colab": {
          "base_uri": "https://localhost:8080/",
          "height": 204
        },
        "id": "KdLBk1sgyrdl",
        "outputId": "4db5f383-2ba3-4635-88ba-2ee6b40d0e9b"
      },
      "source": [
        "transactions.tail() #see the last row of data "
      ],
      "execution_count": 178,
      "outputs": [
        {
          "output_type": "execute_result",
          "data": {
            "text/html": [
              "<div>\n",
              "<style scoped>\n",
              "    .dataframe tbody tr th:only-of-type {\n",
              "        vertical-align: middle;\n",
              "    }\n",
              "\n",
              "    .dataframe tbody tr th {\n",
              "        vertical-align: top;\n",
              "    }\n",
              "\n",
              "    .dataframe thead th {\n",
              "        text-align: right;\n",
              "    }\n",
              "</style>\n",
              "<table border=\"1\" class=\"dataframe\">\n",
              "  <thead>\n",
              "    <tr style=\"text-align: right;\">\n",
              "      <th></th>\n",
              "      <th>InvoiceNo</th>\n",
              "      <th>StockCode</th>\n",
              "      <th>Description</th>\n",
              "      <th>Quantity</th>\n",
              "      <th>InvoiceDate</th>\n",
              "      <th>UnitPrice</th>\n",
              "      <th>CustomerID</th>\n",
              "      <th>Country</th>\n",
              "    </tr>\n",
              "  </thead>\n",
              "  <tbody>\n",
              "    <tr>\n",
              "      <th>541904</th>\n",
              "      <td>581587</td>\n",
              "      <td>22613</td>\n",
              "      <td>PACK OF 20 SPACEBOY NAPKINS</td>\n",
              "      <td>12</td>\n",
              "      <td>2011-12-09 12:50:00</td>\n",
              "      <td>0.85</td>\n",
              "      <td>12680.0</td>\n",
              "      <td>France</td>\n",
              "    </tr>\n",
              "    <tr>\n",
              "      <th>541905</th>\n",
              "      <td>581587</td>\n",
              "      <td>22899</td>\n",
              "      <td>CHILDREN'S APRON DOLLY GIRL</td>\n",
              "      <td>6</td>\n",
              "      <td>2011-12-09 12:50:00</td>\n",
              "      <td>2.10</td>\n",
              "      <td>12680.0</td>\n",
              "      <td>France</td>\n",
              "    </tr>\n",
              "    <tr>\n",
              "      <th>541906</th>\n",
              "      <td>581587</td>\n",
              "      <td>23254</td>\n",
              "      <td>CHILDRENS CUTLERY DOLLY GIRL</td>\n",
              "      <td>4</td>\n",
              "      <td>2011-12-09 12:50:00</td>\n",
              "      <td>4.15</td>\n",
              "      <td>12680.0</td>\n",
              "      <td>France</td>\n",
              "    </tr>\n",
              "    <tr>\n",
              "      <th>541907</th>\n",
              "      <td>581587</td>\n",
              "      <td>23255</td>\n",
              "      <td>CHILDRENS CUTLERY CIRCUS PARADE</td>\n",
              "      <td>4</td>\n",
              "      <td>2011-12-09 12:50:00</td>\n",
              "      <td>4.15</td>\n",
              "      <td>12680.0</td>\n",
              "      <td>France</td>\n",
              "    </tr>\n",
              "    <tr>\n",
              "      <th>541908</th>\n",
              "      <td>581587</td>\n",
              "      <td>22138</td>\n",
              "      <td>BAKING SET 9 PIECE RETROSPOT</td>\n",
              "      <td>3</td>\n",
              "      <td>2011-12-09 12:50:00</td>\n",
              "      <td>4.95</td>\n",
              "      <td>12680.0</td>\n",
              "      <td>France</td>\n",
              "    </tr>\n",
              "  </tbody>\n",
              "</table>\n",
              "</div>"
            ],
            "text/plain": [
              "       InvoiceNo StockCode  ... CustomerID  Country\n",
              "541904    581587     22613  ...    12680.0   France\n",
              "541905    581587     22899  ...    12680.0   France\n",
              "541906    581587     23254  ...    12680.0   France\n",
              "541907    581587     23255  ...    12680.0   France\n",
              "541908    581587     22138  ...    12680.0   France\n",
              "\n",
              "[5 rows x 8 columns]"
            ]
          },
          "metadata": {
            "tags": []
          },
          "execution_count": 178
        }
      ]
    },
    {
      "cell_type": "markdown",
      "metadata": {
        "id": "glRdaXC2-_lA"
      },
      "source": [
        "**checke the data-types of the data:**"
      ]
    },
    {
      "cell_type": "code",
      "metadata": {
        "colab": {
          "base_uri": "https://localhost:8080/"
        },
        "id": "Gb7A-yygysLo",
        "outputId": "816078f2-8ac9-43b0-cc68-63a86f18f0db"
      },
      "source": [
        "transactions.dtypes #to see data-types "
      ],
      "execution_count": 179,
      "outputs": [
        {
          "output_type": "execute_result",
          "data": {
            "text/plain": [
              "InvoiceNo              object\n",
              "StockCode              object\n",
              "Description            object\n",
              "Quantity                int64\n",
              "InvoiceDate    datetime64[ns]\n",
              "UnitPrice             float64\n",
              "CustomerID            float64\n",
              "Country                object\n",
              "dtype: object"
            ]
          },
          "metadata": {
            "tags": []
          },
          "execution_count": 179
        }
      ]
    },
    {
      "cell_type": "markdown",
      "metadata": {
        "id": "eUrv_tUi_JtY"
      },
      "source": [
        "**data information:**"
      ]
    },
    {
      "cell_type": "code",
      "metadata": {
        "colab": {
          "base_uri": "https://localhost:8080/"
        },
        "id": "jrV0TyWLysuT",
        "outputId": "0a90e2e3-9d35-4e30-fef4-f78d30eceba0"
      },
      "source": [
        "transactions.info() #to see data information"
      ],
      "execution_count": 180,
      "outputs": [
        {
          "output_type": "stream",
          "text": [
            "<class 'pandas.core.frame.DataFrame'>\n",
            "RangeIndex: 541909 entries, 0 to 541908\n",
            "Data columns (total 8 columns):\n",
            " #   Column       Non-Null Count   Dtype         \n",
            "---  ------       --------------   -----         \n",
            " 0   InvoiceNo    541909 non-null  object        \n",
            " 1   StockCode    541909 non-null  object        \n",
            " 2   Description  540455 non-null  object        \n",
            " 3   Quantity     541909 non-null  int64         \n",
            " 4   InvoiceDate  541909 non-null  datetime64[ns]\n",
            " 5   UnitPrice    541909 non-null  float64       \n",
            " 6   CustomerID   406829 non-null  float64       \n",
            " 7   Country      541909 non-null  object        \n",
            "dtypes: datetime64[ns](1), float64(2), int64(1), object(4)\n",
            "memory usage: 33.1+ MB\n"
          ],
          "name": "stdout"
        }
      ]
    },
    {
      "cell_type": "markdown",
      "metadata": {
        "id": "YPS6JGPiAIyX"
      },
      "source": [
        "**Missing valuse:** we want to check missing values in our datast "
      ]
    },
    {
      "cell_type": "code",
      "metadata": {
        "colab": {
          "base_uri": "https://localhost:8080/"
        },
        "id": "DD_CSta-zEhL",
        "outputId": "c9b82cf5-d2ef-4e66-a060-5b1d52b49a73"
      },
      "source": [
        "print('Number of Missing Values:' ,  transactions.isnull().sum()) ##check null values "
      ],
      "execution_count": 181,
      "outputs": [
        {
          "output_type": "stream",
          "text": [
            "Number of Missing Values: InvoiceNo           0\n",
            "StockCode           0\n",
            "Description      1454\n",
            "Quantity            0\n",
            "InvoiceDate         0\n",
            "UnitPrice           0\n",
            "CustomerID     135080\n",
            "Country             0\n",
            "dtype: int64\n"
          ],
          "name": "stdout"
        }
      ]
    },
    {
      "cell_type": "markdown",
      "metadata": {
        "id": "5AZ3cdTsAghy"
      },
      "source": [
        "we see that we have 135080 missing values in Customer ID column and 1454 missing values in Descriptions column. "
      ]
    },
    {
      "cell_type": "markdown",
      "metadata": {
        "id": "VvViLew3ASji"
      },
      "source": [
        "**Visualize missing values:**\n",
        "to see the missing values "
      ]
    },
    {
      "cell_type": "code",
      "metadata": {
        "colab": {
          "base_uri": "https://localhost:8080/",
          "height": 460
        },
        "id": "xHYgkXf3zIui",
        "outputId": "71a9c048-81be-44bd-e4b0-664c1f8ebb06"
      },
      "source": [
        "#plot missing values \n",
        "msno.matrix(transactions)\n",
        "plt.show()"
      ],
      "execution_count": 182,
      "outputs": [
        {
          "output_type": "display_data",
          "data": {
            "image/png": "[encoded data removed]",
            "text/plain": [
              "<Figure size 1800x720 with 2 Axes>"
            ]
          },
          "metadata": {
            "tags": [],
            "needs_background": "light"
          }
        }
      ]
    },
    {
      "cell_type": "markdown",
      "metadata": {
        "id": "vi1ILxWIUBnO"
      },
      "source": [
        "see some basic statistics about our data: "
      ]
    },
    {
      "cell_type": "code",
      "metadata": {
        "colab": {
          "base_uri": "https://localhost:8080/",
          "height": 297
        },
        "id": "trn4PXh-Tfzl",
        "outputId": "158c05f5-c662-455c-9212-10580e4059cb"
      },
      "source": [
        "transactions.describe() ##see some basic statistics about our data "
      ],
      "execution_count": 183,
      "outputs": [
        {
          "output_type": "execute_result",
          "data": {
            "text/html": [
              "<div>\n",
              "<style scoped>\n",
              "    .dataframe tbody tr th:only-of-type {\n",
              "        vertical-align: middle;\n",
              "    }\n",
              "\n",
              "    .dataframe tbody tr th {\n",
              "        vertical-align: top;\n",
              "    }\n",
              "\n",
              "    .dataframe thead th {\n",
              "        text-align: right;\n",
              "    }\n",
              "</style>\n",
              "<table border=\"1\" class=\"dataframe\">\n",
              "  <thead>\n",
              "    <tr style=\"text-align: right;\">\n",
              "      <th></th>\n",
              "      <th>Quantity</th>\n",
              "      <th>UnitPrice</th>\n",
              "      <th>CustomerID</th>\n",
              "    </tr>\n",
              "  </thead>\n",
              "  <tbody>\n",
              "    <tr>\n",
              "      <th>count</th>\n",
              "      <td>541909.000000</td>\n",
              "      <td>541909.000000</td>\n",
              "      <td>406829.000000</td>\n",
              "    </tr>\n",
              "    <tr>\n",
              "      <th>mean</th>\n",
              "      <td>9.552250</td>\n",
              "      <td>4.611114</td>\n",
              "      <td>15287.690570</td>\n",
              "    </tr>\n",
              "    <tr>\n",
              "      <th>std</th>\n",
              "      <td>218.081158</td>\n",
              "      <td>96.759853</td>\n",
              "      <td>1713.600303</td>\n",
              "    </tr>\n",
              "    <tr>\n",
              "      <th>min</th>\n",
              "      <td>-80995.000000</td>\n",
              "      <td>-11062.060000</td>\n",
              "      <td>12346.000000</td>\n",
              "    </tr>\n",
              "    <tr>\n",
              "      <th>25%</th>\n",
              "      <td>1.000000</td>\n",
              "      <td>1.250000</td>\n",
              "      <td>13953.000000</td>\n",
              "    </tr>\n",
              "    <tr>\n",
              "      <th>50%</th>\n",
              "      <td>3.000000</td>\n",
              "      <td>2.080000</td>\n",
              "      <td>15152.000000</td>\n",
              "    </tr>\n",
              "    <tr>\n",
              "      <th>75%</th>\n",
              "      <td>10.000000</td>\n",
              "      <td>4.130000</td>\n",
              "      <td>16791.000000</td>\n",
              "    </tr>\n",
              "    <tr>\n",
              "      <th>max</th>\n",
              "      <td>80995.000000</td>\n",
              "      <td>38970.000000</td>\n",
              "      <td>18287.000000</td>\n",
              "    </tr>\n",
              "  </tbody>\n",
              "</table>\n",
              "</div>"
            ],
            "text/plain": [
              "            Quantity      UnitPrice     CustomerID\n",
              "count  541909.000000  541909.000000  406829.000000\n",
              "mean        9.552250       4.611114   15287.690570\n",
              "std       218.081158      96.759853    1713.600303\n",
              "min    -80995.000000  -11062.060000   12346.000000\n",
              "25%         1.000000       1.250000   13953.000000\n",
              "50%         3.000000       2.080000   15152.000000\n",
              "75%        10.000000       4.130000   16791.000000\n",
              "max     80995.000000   38970.000000   18287.000000"
            ]
          },
          "metadata": {
            "tags": []
          },
          "execution_count": 183
        }
      ]
    },
    {
      "cell_type": "markdown",
      "metadata": {
        "id": "mLLCN_48SYqO"
      },
      "source": [
        "what we see in the summary of our data that Quantity and UnitPrice columns  have some odd and irregular values,\n",
        "as we know we have transactions contains returned products, \n",
        "\n",
        "we see thoes transaction in any 'InvoiceNo' codes start with a 'c' letter, so because of that 'UnitPrice'  and 'Quantity\" have  negative values. \n",
        "so we will remove all of these negative values."
      ]
    },
    {
      "cell_type": "markdown",
      "metadata": {
        "id": "8wfFUwSZYCVo"
      },
      "source": [
        "**Canceled transactions:**"
      ]
    },
    {
      "cell_type": "markdown",
      "metadata": {
        "id": "d0XtIk4pB8jC"
      },
      "source": [
        "we want to see how much canceled transactions do we have, \n",
        "we select InvoiceNo,  since any code starts with the letter 'c', it indicates a cancellation: "
      ]
    },
    {
      "cell_type": "code",
      "metadata": {
        "colab": {
          "base_uri": "https://localhost:8080/",
          "height": 289
        },
        "id": "ai9uOC4hzQeC",
        "outputId": "509995b9-cb54-4044-8c7e-c9363193339a"
      },
      "source": [
        "canceled = transactions[transactions[\"InvoiceNo\"].str.contains(\"C\",na=False)]\n",
        "canceled.sort_values(\"Quantity\", ascending = True).head() #to see how much canceled transactions do we have"
      ],
      "execution_count": 184,
      "outputs": [
        {
          "output_type": "execute_result",
          "data": {
            "text/html": [
              "<div>\n",
              "<style scoped>\n",
              "    .dataframe tbody tr th:only-of-type {\n",
              "        vertical-align: middle;\n",
              "    }\n",
              "\n",
              "    .dataframe tbody tr th {\n",
              "        vertical-align: top;\n",
              "    }\n",
              "\n",
              "    .dataframe thead th {\n",
              "        text-align: right;\n",
              "    }\n",
              "</style>\n",
              "<table border=\"1\" class=\"dataframe\">\n",
              "  <thead>\n",
              "    <tr style=\"text-align: right;\">\n",
              "      <th></th>\n",
              "      <th>InvoiceNo</th>\n",
              "      <th>StockCode</th>\n",
              "      <th>Description</th>\n",
              "      <th>Quantity</th>\n",
              "      <th>InvoiceDate</th>\n",
              "      <th>UnitPrice</th>\n",
              "      <th>CustomerID</th>\n",
              "      <th>Country</th>\n",
              "    </tr>\n",
              "  </thead>\n",
              "  <tbody>\n",
              "    <tr>\n",
              "      <th>540422</th>\n",
              "      <td>C581484</td>\n",
              "      <td>23843</td>\n",
              "      <td>PAPER CRAFT , LITTLE BIRDIE</td>\n",
              "      <td>-80995</td>\n",
              "      <td>2011-12-09 09:27:00</td>\n",
              "      <td>2.08</td>\n",
              "      <td>16446.0</td>\n",
              "      <td>United Kingdom</td>\n",
              "    </tr>\n",
              "    <tr>\n",
              "      <th>61624</th>\n",
              "      <td>C541433</td>\n",
              "      <td>23166</td>\n",
              "      <td>MEDIUM CERAMIC TOP STORAGE JAR</td>\n",
              "      <td>-74215</td>\n",
              "      <td>2011-01-18 10:17:00</td>\n",
              "      <td>1.04</td>\n",
              "      <td>12346.0</td>\n",
              "      <td>United Kingdom</td>\n",
              "    </tr>\n",
              "    <tr>\n",
              "      <th>4287</th>\n",
              "      <td>C536757</td>\n",
              "      <td>84347</td>\n",
              "      <td>ROTATING SILVER ANGELS T-LIGHT HLDR</td>\n",
              "      <td>-9360</td>\n",
              "      <td>2010-12-02 14:23:00</td>\n",
              "      <td>0.03</td>\n",
              "      <td>15838.0</td>\n",
              "      <td>United Kingdom</td>\n",
              "    </tr>\n",
              "    <tr>\n",
              "      <th>160145</th>\n",
              "      <td>C550456</td>\n",
              "      <td>21108</td>\n",
              "      <td>FAIRY CAKE FLANNEL ASSORTED COLOUR</td>\n",
              "      <td>-3114</td>\n",
              "      <td>2011-04-18 13:08:00</td>\n",
              "      <td>2.10</td>\n",
              "      <td>15749.0</td>\n",
              "      <td>United Kingdom</td>\n",
              "    </tr>\n",
              "    <tr>\n",
              "      <th>160144</th>\n",
              "      <td>C550456</td>\n",
              "      <td>21175</td>\n",
              "      <td>GIN + TONIC DIET METAL SIGN</td>\n",
              "      <td>-2000</td>\n",
              "      <td>2011-04-18 13:08:00</td>\n",
              "      <td>1.85</td>\n",
              "      <td>15749.0</td>\n",
              "      <td>United Kingdom</td>\n",
              "    </tr>\n",
              "  </tbody>\n",
              "</table>\n",
              "</div>"
            ],
            "text/plain": [
              "       InvoiceNo StockCode  ... CustomerID         Country\n",
              "540422   C581484     23843  ...    16446.0  United Kingdom\n",
              "61624    C541433     23166  ...    12346.0  United Kingdom\n",
              "4287     C536757     84347  ...    15838.0  United Kingdom\n",
              "160145   C550456     21108  ...    15749.0  United Kingdom\n",
              "160144   C550456     21175  ...    15749.0  United Kingdom\n",
              "\n",
              "[5 rows x 8 columns]"
            ]
          },
          "metadata": {
            "tags": []
          },
          "execution_count": 184
        }
      ]
    },
    {
      "cell_type": "markdown",
      "metadata": {
        "id": "_OzZ8juxMeOc"
      },
      "source": [
        "see how much canceled transactions do we have: "
      ]
    },
    {
      "cell_type": "code",
      "metadata": {
        "colab": {
          "base_uri": "https://localhost:8080/"
        },
        "id": "D8bFnm3fzW6P",
        "outputId": "80a967f8-2071-4899-c5ba-45f13ff769d6"
      },
      "source": [
        "canceled.info() #to see how canceled transactions do we have "
      ],
      "execution_count": 185,
      "outputs": [
        {
          "output_type": "stream",
          "text": [
            "<class 'pandas.core.frame.DataFrame'>\n",
            "Int64Index: 9288 entries, 141 to 541717\n",
            "Data columns (total 8 columns):\n",
            " #   Column       Non-Null Count  Dtype         \n",
            "---  ------       --------------  -----         \n",
            " 0   InvoiceNo    9288 non-null   object        \n",
            " 1   StockCode    9288 non-null   object        \n",
            " 2   Description  9288 non-null   object        \n",
            " 3   Quantity     9288 non-null   int64         \n",
            " 4   InvoiceDate  9288 non-null   datetime64[ns]\n",
            " 5   UnitPrice    9288 non-null   float64       \n",
            " 6   CustomerID   8905 non-null   float64       \n",
            " 7   Country      9288 non-null   object        \n",
            "dtypes: datetime64[ns](1), float64(2), int64(1), object(4)\n",
            "memory usage: 653.1+ KB\n"
          ],
          "name": "stdout"
        }
      ]
    },
    {
      "cell_type": "markdown",
      "metadata": {
        "id": "k7ez0n3aNJPx"
      },
      "source": [
        "\n",
        "here we want to discover  which products were mostly returned by customers:"
      ]
    },
    {
      "cell_type": "code",
      "metadata": {
        "id": "cBJ7KztQPMQ_"
      },
      "source": [
        "Returnedproducts = transactions[transactions.Quantity<0].groupby('Description')['Quantity'].sum()\n",
        "Returnedproducts = Returnedproducts.abs().sort_values(ascending=False)[0:10]"
      ],
      "execution_count": 186,
      "outputs": []
    },
    {
      "cell_type": "code",
      "metadata": {
        "colab": {
          "base_uri": "https://localhost:8080/",
          "height": 407
        },
        "id": "PksEZyqJPl41",
        "outputId": "fcfed0c7-3cc2-42d8-bc88-02c9f288d13e"
      },
      "source": [
        "plt.figure(figsize=(7,6))\n",
        "Returnedproducts.plot(kind='barh', color='#ebb55a')\n",
        "plt.title('Most Returned Items')"
      ],
      "execution_count": 187,
      "outputs": [
        {
          "output_type": "execute_result",
          "data": {
            "text/plain": [
              "Text(0.5, 1.0, 'Most Returned Items')"
            ]
          },
          "metadata": {
            "tags": []
          },
          "execution_count": 187
        },
        {
          "output_type": "display_data",
          "data": {
            "image/png": "[encoded data removed]",
            "text/plain": [
              "<Figure size 504x432 with 1 Axes>"
            ]
          },
          "metadata": {
            "tags": [],
            "needs_background": "light"
          }
        }
      ]
    },
    {
      "cell_type": "markdown",
      "metadata": {
        "id": "nl743DrvRCuZ"
      },
      "source": [
        " we see here we notice that we have odd descriptions,  they are comments from customrs not the names of products. "
      ]
    },
    {
      "cell_type": "markdown",
      "metadata": {
        "id": "JITJmkCPRU1Y"
      },
      "source": [
        "here we want to see customers who have the most returned items in their transactions and where they are from: \n"
      ]
    },
    {
      "cell_type": "code",
      "metadata": {
        "id": "iXczfnVmzaTq"
      },
      "source": [
        "ReturnCust = transactions[transactions.Quantity<0].groupby(['CustomerID','Country'])['Quantity'].sum()\n",
        "ReturnCust = ReturnCust.abs().sort_values(ascending=False)[0:10]"
      ],
      "execution_count": 188,
      "outputs": []
    },
    {
      "cell_type": "code",
      "metadata": {
        "colab": {
          "base_uri": "https://localhost:8080/",
          "height": 407
        },
        "id": "DfmT-qNyzeEA",
        "outputId": "9d931399-3458-4e4a-9b66-23ac30cffa06"
      },
      "source": [
        "plt.figure(figsize=(7,6))\n",
        "ReturnCust.plot(kind='barh', color='#ebb55a')\n",
        "plt.title('Customers with most Returns')"
      ],
      "execution_count": 189,
      "outputs": [
        {
          "output_type": "execute_result",
          "data": {
            "text/plain": [
              "Text(0.5, 1.0, 'Customers with most Returns')"
            ]
          },
          "metadata": {
            "tags": []
          },
          "execution_count": 189
        },
        {
          "output_type": "display_data",
          "data": {
            "image/png": "[encoded data removed]",
            "text/plain": [
              "<Figure size 504x432 with 1 Axes>"
            ]
          },
          "metadata": {
            "tags": [],
            "needs_background": "light"
          }
        }
      ]
    },
    {
      "cell_type": "markdown",
      "metadata": {
        "id": "3wWcAYMILIPY"
      },
      "source": [
        "**Check duplicated values:** \n",
        "\n",
        "here we want to check how much duplicated values do we have"
      ]
    },
    {
      "cell_type": "code",
      "metadata": {
        "colab": {
          "base_uri": "https://localhost:8080/"
        },
        "id": "jq2QOqwvzMn-",
        "outputId": "08800ffc-f1c4-415d-d464-e7433c8f8133"
      },
      "source": [
        "print('Number of duplicated records: ', transactions.duplicated(keep='first').sum()) #check duplicated values"
      ],
      "execution_count": 190,
      "outputs": [
        {
          "output_type": "stream",
          "text": [
            "Number of duplicated records:  5268\n"
          ],
          "name": "stdout"
        }
      ]
    },
    {
      "cell_type": "markdown",
      "metadata": {
        "id": "cSacalaiA8cW"
      },
      "source": [
        "we have 5268 duplicated values. "
      ]
    },
    {
      "cell_type": "markdown",
      "metadata": {
        "id": "ASXEYdPsZbGA"
      },
      "source": [
        "#### **Data Wrangling:**"
      ]
    },
    {
      "cell_type": "markdown",
      "metadata": {
        "id": "aK8bLGaMZv3y"
      },
      "source": [
        "we will drop missing values:"
      ]
    },
    {
      "cell_type": "code",
      "metadata": {
        "id": "jI4BYMNSzihn"
      },
      "source": [
        "#drop missing values\n",
        "transactions.dropna (axis=0, inplace= True) "
      ],
      "execution_count": 191,
      "outputs": []
    },
    {
      "cell_type": "markdown",
      "metadata": {
        "id": "vQfHANr6Z1VT"
      },
      "source": [
        "and remove duplicated values:"
      ]
    },
    {
      "cell_type": "code",
      "metadata": {
        "id": "cND3Q151znSe"
      },
      "source": [
        "transactions.drop_duplicates(keep=False,inplace=True)  #drop duplicated values "
      ],
      "execution_count": 192,
      "outputs": []
    },
    {
      "cell_type": "markdown",
      "metadata": {
        "id": "b_-UZkgPaDM9"
      },
      "source": [
        "Remove negative values and 0 quantities from dataset:"
      ]
    },
    {
      "cell_type": "code",
      "metadata": {
        "id": "ZdLPe1v5zqcg"
      },
      "source": [
        "# Remove negative and 0 quantities and prices\n",
        "transactions= transactions[transactions['Quantity']>0]\n",
        "transactions= transactions[transactions['UnitPrice']>0]"
      ],
      "execution_count": 193,
      "outputs": []
    },
    {
      "cell_type": "markdown",
      "metadata": {
        "id": "hvYCFJ1faMV_"
      },
      "source": [
        "see summary of data now:"
      ]
    },
    {
      "cell_type": "code",
      "metadata": {
        "colab": {
          "base_uri": "https://localhost:8080/",
          "height": 297
        },
        "id": "TLiEdNiOaS83",
        "outputId": "bd837ca7-a379-42e7-fb21-d3bf8520590f"
      },
      "source": [
        "transactions.describe()"
      ],
      "execution_count": 194,
      "outputs": [
        {
          "output_type": "execute_result",
          "data": {
            "text/html": [
              "<div>\n",
              "<style scoped>\n",
              "    .dataframe tbody tr th:only-of-type {\n",
              "        vertical-align: middle;\n",
              "    }\n",
              "\n",
              "    .dataframe tbody tr th {\n",
              "        vertical-align: top;\n",
              "    }\n",
              "\n",
              "    .dataframe thead th {\n",
              "        text-align: right;\n",
              "    }\n",
              "</style>\n",
              "<table border=\"1\" class=\"dataframe\">\n",
              "  <thead>\n",
              "    <tr style=\"text-align: right;\">\n",
              "      <th></th>\n",
              "      <th>Quantity</th>\n",
              "      <th>UnitPrice</th>\n",
              "      <th>CustomerID</th>\n",
              "    </tr>\n",
              "  </thead>\n",
              "  <tbody>\n",
              "    <tr>\n",
              "      <th>count</th>\n",
              "      <td>387883.000000</td>\n",
              "      <td>387883.000000</td>\n",
              "      <td>387883.000000</td>\n",
              "    </tr>\n",
              "    <tr>\n",
              "      <th>mean</th>\n",
              "      <td>13.244192</td>\n",
              "      <td>3.134954</td>\n",
              "      <td>15281.730762</td>\n",
              "    </tr>\n",
              "    <tr>\n",
              "      <th>std</th>\n",
              "      <td>181.587861</td>\n",
              "      <td>22.377731</td>\n",
              "      <td>1713.926205</td>\n",
              "    </tr>\n",
              "    <tr>\n",
              "      <th>min</th>\n",
              "      <td>1.000000</td>\n",
              "      <td>0.001000</td>\n",
              "      <td>12346.000000</td>\n",
              "    </tr>\n",
              "    <tr>\n",
              "      <th>25%</th>\n",
              "      <td>2.000000</td>\n",
              "      <td>1.250000</td>\n",
              "      <td>13941.000000</td>\n",
              "    </tr>\n",
              "    <tr>\n",
              "      <th>50%</th>\n",
              "      <td>6.000000</td>\n",
              "      <td>1.950000</td>\n",
              "      <td>15144.000000</td>\n",
              "    </tr>\n",
              "    <tr>\n",
              "      <th>75%</th>\n",
              "      <td>12.000000</td>\n",
              "      <td>3.750000</td>\n",
              "      <td>16788.000000</td>\n",
              "    </tr>\n",
              "    <tr>\n",
              "      <th>max</th>\n",
              "      <td>80995.000000</td>\n",
              "      <td>8142.750000</td>\n",
              "      <td>18287.000000</td>\n",
              "    </tr>\n",
              "  </tbody>\n",
              "</table>\n",
              "</div>"
            ],
            "text/plain": [
              "            Quantity      UnitPrice     CustomerID\n",
              "count  387883.000000  387883.000000  387883.000000\n",
              "mean       13.244192       3.134954   15281.730762\n",
              "std       181.587861      22.377731    1713.926205\n",
              "min         1.000000       0.001000   12346.000000\n",
              "25%         2.000000       1.250000   13941.000000\n",
              "50%         6.000000       1.950000   15144.000000\n",
              "75%        12.000000       3.750000   16788.000000\n",
              "max     80995.000000    8142.750000   18287.000000"
            ]
          },
          "metadata": {
            "tags": []
          },
          "execution_count": 194
        }
      ]
    },
    {
      "cell_type": "markdown",
      "metadata": {
        "id": "T0mAsi-saWza"
      },
      "source": [
        "now it is much better."
      ]
    },
    {
      "cell_type": "markdown",
      "metadata": {
        "id": "rrQmQgtVbrjg"
      },
      "source": [
        "here we want to see number of countries do we have:"
      ]
    },
    {
      "cell_type": "code",
      "metadata": {
        "colab": {
          "base_uri": "https://localhost:8080/"
        },
        "id": "pWrT7hk_bUgw",
        "outputId": "e414cfd3-71c6-4dfe-dc48-6e69f84ff1e4"
      },
      "source": [
        "countries= transactions.Country.value_counts() #count of countries \n",
        "print(countries)"
      ],
      "execution_count": 195,
      "outputs": [
        {
          "output_type": "stream",
          "text": [
            "United Kingdom          344466\n",
            "Germany                   9010\n",
            "France                    8311\n",
            "EIRE                      7216\n",
            "Spain                     2474\n",
            "Netherlands               2359\n",
            "Belgium                   2031\n",
            "Switzerland               1841\n",
            "Portugal                  1445\n",
            "Australia                 1180\n",
            "Norway                    1071\n",
            "Italy                      758\n",
            "Channel Islands            746\n",
            "Finland                    685\n",
            "Cyprus                     593\n",
            "Sweden                     449\n",
            "Austria                    398\n",
            "Denmark                    380\n",
            "Poland                     330\n",
            "Japan                      321\n",
            "Israel                     242\n",
            "Unspecified                238\n",
            "Singapore                  222\n",
            "Iceland                    182\n",
            "USA                        179\n",
            "Canada                     151\n",
            "Greece                     145\n",
            "Malta                      112\n",
            "United Arab Emirates        68\n",
            "European Community          60\n",
            "RSA                         57\n",
            "Lebanon                     45\n",
            "Lithuania                   35\n",
            "Brazil                      32\n",
            "Czech Republic              25\n",
            "Bahrain                     17\n",
            "Saudi Arabia                 9\n",
            "Name: Country, dtype: int64\n"
          ],
          "name": "stdout"
        }
      ]
    },
    {
      "cell_type": "markdown",
      "metadata": {
        "id": "a-Dxc8fLafgK"
      },
      "source": [
        "here we want to see the top 5 countries of heghiest numbers of transactions :"
      ]
    },
    {
      "cell_type": "code",
      "metadata": {
        "colab": {
          "base_uri": "https://localhost:8080/"
        },
        "id": "-Ej9eWj_zt2L",
        "outputId": "0e175cf5-a190-4e27-ba21-3207c8d788d9"
      },
      "source": [
        " #see the top 5 countries of heghiest numbers of transactions\n",
        "\n",
        "\n",
        "countries= transactions.Country.value_counts()\n",
        "countries.head(5)\n"
      ],
      "execution_count": 196,
      "outputs": [
        {
          "output_type": "execute_result",
          "data": {
            "text/plain": [
              "United Kingdom    344466\n",
              "Germany             9010\n",
              "France              8311\n",
              "EIRE                7216\n",
              "Spain               2474\n",
              "Name: Country, dtype: int64"
            ]
          },
          "metadata": {
            "tags": []
          },
          "execution_count": 196
        }
      ]
    },
    {
      "cell_type": "markdown",
      "metadata": {
        "id": "O0t4Uk9aczhq"
      },
      "source": [
        " UK has maximum number of transactions followed by Germany."
      ]
    },
    {
      "cell_type": "markdown",
      "metadata": {
        "id": "1eweYJ_bdE8W"
      },
      "source": [
        "**Visualize the result:**"
      ]
    },
    {
      "cell_type": "code",
      "metadata": {
        "colab": {
          "base_uri": "https://localhost:8080/",
          "height": 407
        },
        "id": "boFl55Wtz0DP",
        "outputId": "c54d376e-fab2-4501-cff1-9ef15caa8ca5"
      },
      "source": [
        "plt.figure(figsize=(7,6)) #plot the top countries of the most records \n",
        "countries.head(5).plot(kind='barh', color='#637b7f')\n",
        "plt.title('Top Countries')"
      ],
      "execution_count": 197,
      "outputs": [
        {
          "output_type": "execute_result",
          "data": {
            "text/plain": [
              "Text(0.5, 1.0, 'Top Countries')"
            ]
          },
          "metadata": {
            "tags": []
          },
          "execution_count": 197
        },
        {
          "output_type": "display_data",
          "data": {
            "image/png": "[encoded data removed]",
            "text/plain": [
              "<Figure size 504x432 with 1 Axes>"
            ]
          },
          "metadata": {
            "tags": [],
            "needs_background": "light"
          }
        }
      ]
    },
    {
      "cell_type": "markdown",
      "metadata": {
        "id": "D4x1rzbXdhJl"
      },
      "source": [
        "## **RFM Model:**\n",
        "\n",
        "RMF is a simple method for categorising customers based on their purchasing behaviour. The behaviour is identified by using only three customer data points:\n",
        "*  the recency of purchase (R)\n",
        "*  the frequency of purchases (F)\n",
        "*  the mean monetary value of each purchase (M)\n",
        "\n",
        " After some calculations on the RFM data we can create customer segments that are actionable and easy to understand\n",
        "\n",
        "\n"
      ]
    },
    {
      "cell_type": "markdown",
      "metadata": {
        "id": "XkVkTiyPdXvt"
      },
      "source": [
        "so for the RFM model I choose Germany \n",
        "so i will make new data set only have transactions from Germany."
      ]
    },
    {
      "cell_type": "code",
      "metadata": {
        "id": "7Aoc1Eunz6FJ"
      },
      "source": [
        "germany_transactions = transactions[transactions['Country']=='Germany'] #choose Germany  "
      ],
      "execution_count": 198,
      "outputs": []
    },
    {
      "cell_type": "markdown",
      "metadata": {
        "id": "YmPJ_CCed0ul"
      },
      "source": [
        "here I want to see the most sold prducts by customers from Germany "
      ]
    },
    {
      "cell_type": "code",
      "metadata": {
        "colab": {
          "base_uri": "https://localhost:8080/"
        },
        "id": "tk273pkY0aY5",
        "outputId": "cfbab799-069a-4f56-dae5-d70c789ab283"
      },
      "source": [
        "#explore and visualize the most sold products in Germany\n",
        "most_sold = germany_transactions['Description'].value_counts().head(15)\n",
        "print('Most Sold Products')\n",
        "print(most_sold)"
      ],
      "execution_count": 199,
      "outputs": [
        {
          "output_type": "stream",
          "text": [
            "Most Sold Products\n",
            "POSTAGE                                374\n",
            "ROUND SNACK BOXES SET OF4 WOODLAND     111\n",
            "ROUND SNACK BOXES SET OF 4 FRUITS       72\n",
            "REGENCY CAKESTAND 3 TIER                63\n",
            "PLASTERS IN TIN WOODLAND ANIMALS        62\n",
            "WOODLAND CHARLOTTE BAG                  58\n",
            "PLASTERS IN TIN CIRCUS PARADE           53\n",
            "PLASTERS IN TIN SPACEBOY                49\n",
            "6 RIBBONS RUSTIC CHARM                  47\n",
            "SPACEBOY LUNCH BOX                      47\n",
            "JUMBO BAG WOODLAND ANIMALS              46\n",
            "RED TOADSTOOL LED NIGHT LIGHT           44\n",
            "JAM MAKING SET PRINTED                  42\n",
            "PACK OF 72 RETROSPOT CAKE CASES         39\n",
            "JUMBO BAG RED RETROSPOT                 36\n",
            "Name: Description, dtype: int64\n"
          ],
          "name": "stdout"
        }
      ]
    },
    {
      "cell_type": "code",
      "metadata": {
        "colab": {
          "base_uri": "https://localhost:8080/",
          "height": 495
        },
        "id": "wZ1NLK0M0lpZ",
        "outputId": "0ecc9d4f-874c-437f-e6be-c0685576c21d"
      },
      "source": [
        "plt = most_sold.plot(kind='barh',color='#ebb55a', figsize=(8, 7))\n",
        " # Set x-axis label\n",
        "plt.set_xlabel(\"Quantity\", labelpad=20, size=12)\n",
        "\n",
        "  # Set y-axis label\n",
        "plt.set_ylabel(\"Description\", labelpad=20, size=12)\n",
        "\n",
        "\n",
        "plt.set_title('Most Sold Products by Germany Customers', fontsize= 14)"
      ],
      "execution_count": 200,
      "outputs": [
        {
          "output_type": "execute_result",
          "data": {
            "text/plain": [
              "Text(0.5, 1.0, 'Most Sold Products by Germany Customers')"
            ]
          },
          "metadata": {
            "tags": []
          },
          "execution_count": 200
        },
        {
          "output_type": "display_data",
          "data": {
            "image/png": "[encoded data removed]",
            "text/plain": [
              "<Figure size 576x504 with 1 Axes>"
            ]
          },
          "metadata": {
            "tags": [],
            "needs_background": "light"
          }
        }
      ]
    },
    {
      "cell_type": "markdown",
      "metadata": {
        "id": "fZasnEmpQ7i5"
      },
      "source": [
        "**RFM Model:**"
      ]
    },
    {
      "cell_type": "markdown",
      "metadata": {
        "id": "ojmpoWQXx37l"
      },
      "source": [
        " Filter the necessary columns for RFM analysis :\n",
        "\n",
        " CustomerID, InvoiceDate, InvoiceNo, Quantity and UnitPrice"
      ]
    },
    {
      "cell_type": "code",
      "metadata": {
        "id": "cvUQ7Yp11LVA"
      },
      "source": [
        "#Filter the necessary columns for RFM analysis\n",
        "germany_transactions= germany_transactions[['CustomerID','InvoiceDate','InvoiceNo','Quantity','UnitPrice']]"
      ],
      "execution_count": 201,
      "outputs": []
    },
    {
      "cell_type": "markdown",
      "metadata": {
        "id": "0N-bIJtQxVma"
      },
      "source": [
        "Created a sum column to calculated the revenue for each order line by multiplying the Quantity with the UnitPrice, then we groupe the transactions on InvoiceNo and created Amount column to hold the revenue for each invoice."
      ]
    },
    {
      "cell_type": "code",
      "metadata": {
        "id": "qU7TlKTM1SUM"
      },
      "source": [
        "#Created a sum column to calculated the revenue for each order line by multiplying the Quantity with the UnitPrice \n",
        "germany_transactions['Amount'] = germany_transactions['Quantity'] * germany_transactions['UnitPrice']"
      ],
      "execution_count": 202,
      "outputs": []
    },
    {
      "cell_type": "markdown",
      "metadata": {
        "id": "uHuyzOKsyie7"
      },
      "source": [
        "RFM Analysis\n",
        "\n",
        " we are going do \n",
        "\n",
        "* For Recency, Calculate the number of days between present date and date of last purchase each customer.\n",
        "\n",
        "* For Frequency, Calculate the number of orders for each customer.\n",
        "\n",
        "* For Monetary, Calculate sum of purchase price for each customer."
      ]
    },
    {
      "cell_type": "code",
      "metadata": {
        "colab": {
          "base_uri": "https://localhost:8080/"
        },
        "id": "y9vIlooR1aXh",
        "outputId": "fee1a4ee-e7b3-47fe-d273-833ff09421dd"
      },
      "source": [
        "#check the first day purchase and last day purchase\n",
        "germany_transactions['InvoiceDate'].min(),germany_transactions['InvoiceDate'].max()"
      ],
      "execution_count": 203,
      "outputs": [
        {
          "output_type": "execute_result",
          "data": {
            "text/plain": [
              "(Timestamp('2010-12-01 13:04:00'), Timestamp('2011-12-09 12:16:00'))"
            ]
          },
          "metadata": {
            "tags": []
          },
          "execution_count": 203
        }
      ]
    },
    {
      "cell_type": "code",
      "metadata": {
        "id": "w3Tey8Gq1ghH"
      },
      "source": [
        "\n",
        "PRESENT = dt.datetime(2011,12,10)\n",
        "germany_transactions['InvoiceDate'] = pd.to_datetime(germany_transactions['InvoiceDate'])"
      ],
      "execution_count": 204,
      "outputs": []
    },
    {
      "cell_type": "code",
      "metadata": {
        "id": "Op_p2aJN1zso"
      },
      "source": [
        "rfm= germany_transactions.groupby('CustomerID').agg({'InvoiceDate': lambda date: (PRESENT - date.max()).days,\n",
        "                                        'InvoiceNo': lambda num: len(num),\n",
        "                                        'Amount': lambda price: price.sum()})"
      ],
      "execution_count": 205,
      "outputs": []
    },
    {
      "cell_type": "markdown",
      "metadata": {
        "id": "Bzo-pEO80f12"
      },
      "source": [
        "see the name of columns: "
      ]
    },
    {
      "cell_type": "code",
      "metadata": {
        "colab": {
          "base_uri": "https://localhost:8080/"
        },
        "id": "KuItnzBp2Hvl",
        "outputId": "517cc7e9-1f2f-4ff1-e96e-ad09c02d261d"
      },
      "source": [
        "rfm.columns"
      ],
      "execution_count": 206,
      "outputs": [
        {
          "output_type": "execute_result",
          "data": {
            "text/plain": [
              "Index(['InvoiceDate', 'InvoiceNo', 'Amount'], dtype='object')"
            ]
          },
          "metadata": {
            "tags": []
          },
          "execution_count": 206
        }
      ]
    },
    {
      "cell_type": "code",
      "metadata": {
        "id": "196w0lkV2Loj"
      },
      "source": [
        "# Change the name of columns\n",
        "rfm.columns=['recency','frequency','monetary']"
      ],
      "execution_count": 207,
      "outputs": []
    },
    {
      "cell_type": "code",
      "metadata": {
        "colab": {
          "base_uri": "https://localhost:8080/",
          "height": 204
        },
        "id": "ebkqG0aM1uzX",
        "outputId": "23aca447-eb7e-4845-a17a-768758f6712d"
      },
      "source": [
        "germany_transactions.head()"
      ],
      "execution_count": 208,
      "outputs": [
        {
          "output_type": "execute_result",
          "data": {
            "text/html": [
              "<div>\n",
              "<style scoped>\n",
              "    .dataframe tbody tr th:only-of-type {\n",
              "        vertical-align: middle;\n",
              "    }\n",
              "\n",
              "    .dataframe tbody tr th {\n",
              "        vertical-align: top;\n",
              "    }\n",
              "\n",
              "    .dataframe thead th {\n",
              "        text-align: right;\n",
              "    }\n",
              "</style>\n",
              "<table border=\"1\" class=\"dataframe\">\n",
              "  <thead>\n",
              "    <tr style=\"text-align: right;\">\n",
              "      <th></th>\n",
              "      <th>CustomerID</th>\n",
              "      <th>InvoiceDate</th>\n",
              "      <th>InvoiceNo</th>\n",
              "      <th>Quantity</th>\n",
              "      <th>UnitPrice</th>\n",
              "      <th>Amount</th>\n",
              "    </tr>\n",
              "  </thead>\n",
              "  <tbody>\n",
              "    <tr>\n",
              "      <th>1109</th>\n",
              "      <td>12662.0</td>\n",
              "      <td>2010-12-01 13:04:00</td>\n",
              "      <td>536527</td>\n",
              "      <td>6</td>\n",
              "      <td>2.95</td>\n",
              "      <td>17.7</td>\n",
              "    </tr>\n",
              "    <tr>\n",
              "      <th>1110</th>\n",
              "      <td>12662.0</td>\n",
              "      <td>2010-12-01 13:04:00</td>\n",
              "      <td>536527</td>\n",
              "      <td>6</td>\n",
              "      <td>2.55</td>\n",
              "      <td>15.3</td>\n",
              "    </tr>\n",
              "    <tr>\n",
              "      <th>1111</th>\n",
              "      <td>12662.0</td>\n",
              "      <td>2010-12-01 13:04:00</td>\n",
              "      <td>536527</td>\n",
              "      <td>12</td>\n",
              "      <td>0.85</td>\n",
              "      <td>10.2</td>\n",
              "    </tr>\n",
              "    <tr>\n",
              "      <th>1112</th>\n",
              "      <td>12662.0</td>\n",
              "      <td>2010-12-01 13:04:00</td>\n",
              "      <td>536527</td>\n",
              "      <td>12</td>\n",
              "      <td>1.65</td>\n",
              "      <td>19.8</td>\n",
              "    </tr>\n",
              "    <tr>\n",
              "      <th>1113</th>\n",
              "      <td>12662.0</td>\n",
              "      <td>2010-12-01 13:04:00</td>\n",
              "      <td>536527</td>\n",
              "      <td>12</td>\n",
              "      <td>1.95</td>\n",
              "      <td>23.4</td>\n",
              "    </tr>\n",
              "  </tbody>\n",
              "</table>\n",
              "</div>"
            ],
            "text/plain": [
              "      CustomerID         InvoiceDate InvoiceNo  Quantity  UnitPrice  Amount\n",
              "1109     12662.0 2010-12-01 13:04:00    536527         6       2.95    17.7\n",
              "1110     12662.0 2010-12-01 13:04:00    536527         6       2.55    15.3\n",
              "1111     12662.0 2010-12-01 13:04:00    536527        12       0.85    10.2\n",
              "1112     12662.0 2010-12-01 13:04:00    536527        12       1.65    19.8\n",
              "1113     12662.0 2010-12-01 13:04:00    536527        12       1.95    23.4"
            ]
          },
          "metadata": {
            "tags": []
          },
          "execution_count": 208
        }
      ]
    },
    {
      "cell_type": "code",
      "metadata": {
        "id": "o4GiJQeH2Pkb"
      },
      "source": [
        "rfm['recency'] = rfm['recency'].astype(int)"
      ],
      "execution_count": 209,
      "outputs": []
    },
    {
      "cell_type": "code",
      "metadata": {
        "id": "ryngU2ci2TA9"
      },
      "source": [
        "# Filter out non repeat customers\n",
        "rfm = rfm[rfm['frequency']>0]"
      ],
      "execution_count": 210,
      "outputs": []
    },
    {
      "cell_type": "code",
      "metadata": {
        "id": "vzih009q2Wom"
      },
      "source": [
        "# Filter out monetary outliers\n",
        "rfm = rfm[rfm['monetary']<2000]"
      ],
      "execution_count": 211,
      "outputs": []
    },
    {
      "cell_type": "code",
      "metadata": {
        "colab": {
          "base_uri": "https://localhost:8080/",
          "height": 235
        },
        "id": "wT6JCHB-2aDc",
        "outputId": "f9a04c99-4ad3-4eca-acbe-28dd36cbcd6a"
      },
      "source": [
        "rfm.head()"
      ],
      "execution_count": 212,
      "outputs": [
        {
          "output_type": "execute_result",
          "data": {
            "text/html": [
              "<div>\n",
              "<style scoped>\n",
              "    .dataframe tbody tr th:only-of-type {\n",
              "        vertical-align: middle;\n",
              "    }\n",
              "\n",
              "    .dataframe tbody tr th {\n",
              "        vertical-align: top;\n",
              "    }\n",
              "\n",
              "    .dataframe thead th {\n",
              "        text-align: right;\n",
              "    }\n",
              "</style>\n",
              "<table border=\"1\" class=\"dataframe\">\n",
              "  <thead>\n",
              "    <tr style=\"text-align: right;\">\n",
              "      <th></th>\n",
              "      <th>recency</th>\n",
              "      <th>frequency</th>\n",
              "      <th>monetary</th>\n",
              "    </tr>\n",
              "    <tr>\n",
              "      <th>CustomerID</th>\n",
              "      <th></th>\n",
              "      <th></th>\n",
              "      <th></th>\n",
              "    </tr>\n",
              "  </thead>\n",
              "  <tbody>\n",
              "    <tr>\n",
              "      <th>12426.0</th>\n",
              "      <td>194</td>\n",
              "      <td>30</td>\n",
              "      <td>582.73</td>\n",
              "    </tr>\n",
              "    <tr>\n",
              "      <th>12427.0</th>\n",
              "      <td>21</td>\n",
              "      <td>31</td>\n",
              "      <td>825.80</td>\n",
              "    </tr>\n",
              "    <tr>\n",
              "      <th>12468.0</th>\n",
              "      <td>187</td>\n",
              "      <td>38</td>\n",
              "      <td>729.54</td>\n",
              "    </tr>\n",
              "    <tr>\n",
              "      <th>12475.0</th>\n",
              "      <td>53</td>\n",
              "      <td>36</td>\n",
              "      <td>723.38</td>\n",
              "    </tr>\n",
              "    <tr>\n",
              "      <th>12479.0</th>\n",
              "      <td>11</td>\n",
              "      <td>31</td>\n",
              "      <td>527.20</td>\n",
              "    </tr>\n",
              "  </tbody>\n",
              "</table>\n",
              "</div>"
            ],
            "text/plain": [
              "            recency  frequency  monetary\n",
              "CustomerID                              \n",
              "12426.0         194         30    582.73\n",
              "12427.0          21         31    825.80\n",
              "12468.0         187         38    729.54\n",
              "12475.0          53         36    723.38\n",
              "12479.0          11         31    527.20"
            ]
          },
          "metadata": {
            "tags": []
          },
          "execution_count": 212
        }
      ]
    },
    {
      "cell_type": "markdown",
      "metadata": {
        "id": "OyFEd-Ps7pC-"
      },
      "source": [
        " we wnant see how our data are distributed :"
      ]
    },
    {
      "cell_type": "code",
      "metadata": {
        "colab": {
          "base_uri": "https://localhost:8080/",
          "height": 728
        },
        "id": "vKt2VxmN9Q_l",
        "outputId": "82e5c668-95aa-4267-c7ec-0a99caca5698"
      },
      "source": [
        "# Plot RFM distributions\n",
        "plt.figure(figsize=(12,10))\n",
        "# Plot distribution of R\n",
        "plt.subplot(3, 1, 1); sns.distplot(rfm['recency'])\n",
        "# Plot distribution of F\n",
        "plt.subplot(3, 1, 2); sns.distplot(rfm['frequency'])\n",
        "# Plot distribution of M\n",
        "plt.subplot(3, 1, 3); sns.distplot(rfm['monetary'])\n",
        "# Show the plot\n",
        "plt.show()"
      ],
      "execution_count": 215,
      "outputs": [
        {
          "output_type": "stream",
          "text": [
            "/usr/local/lib/python3.6/dist-packages/seaborn/distributions.py:2551: FutureWarning: `distplot` is a deprecated function and will be removed in a future version. Please adapt your code to use either `displot` (a figure-level function with similar flexibility) or `histplot` (an axes-level function for histograms).\n",
            "  warnings.warn(msg, FutureWarning)\n",
            "/usr/local/lib/python3.6/dist-packages/seaborn/distributions.py:2551: FutureWarning: `distplot` is a deprecated function and will be removed in a future version. Please adapt your code to use either `displot` (a figure-level function with similar flexibility) or `histplot` (an axes-level function for histograms).\n",
            "  warnings.warn(msg, FutureWarning)\n",
            "/usr/local/lib/python3.6/dist-packages/seaborn/distributions.py:2551: FutureWarning: `distplot` is a deprecated function and will be removed in a future version. Please adapt your code to use either `displot` (a figure-level function with similar flexibility) or `histplot` (an axes-level function for histograms).\n",
            "  warnings.warn(msg, FutureWarning)\n"
          ],
          "name": "stderr"
        },
        {
          "output_type": "display_data",
          "data": {
            "image/png": "[encoded data removed]",
            "text/plain": [
              "<Figure size 864x720 with 3 Axes>"
            ]
          },
          "metadata": {
            "tags": [],
            "needs_background": "light"
          }
        }
      ]
    },
    {
      "cell_type": "markdown",
      "metadata": {
        "id": "Eu6YpoDd10rd"
      },
      "source": [
        "Create the quartiles scores"
      ]
    },
    {
      "cell_type": "code",
      "metadata": {
        "colab": {
          "base_uri": "https://localhost:8080/",
          "height": 235
        },
        "id": "FpnH_CoJ2ffF",
        "outputId": "ae465384-c350-4314-c403-0c6d01facc4b"
      },
      "source": [
        "# Create the quartiles scores\n",
        "quantiles = rfm.quantile(q=[0.25,0.5,0.75])\n",
        "quantiles = quantiles.to_dict()\n",
        "rfm.head()"
      ],
      "execution_count": 216,
      "outputs": [
        {
          "output_type": "execute_result",
          "data": {
            "text/html": [
              "<div>\n",
              "<style scoped>\n",
              "    .dataframe tbody tr th:only-of-type {\n",
              "        vertical-align: middle;\n",
              "    }\n",
              "\n",
              "    .dataframe tbody tr th {\n",
              "        vertical-align: top;\n",
              "    }\n",
              "\n",
              "    .dataframe thead th {\n",
              "        text-align: right;\n",
              "    }\n",
              "</style>\n",
              "<table border=\"1\" class=\"dataframe\">\n",
              "  <thead>\n",
              "    <tr style=\"text-align: right;\">\n",
              "      <th></th>\n",
              "      <th>recency</th>\n",
              "      <th>frequency</th>\n",
              "      <th>monetary</th>\n",
              "    </tr>\n",
              "    <tr>\n",
              "      <th>CustomerID</th>\n",
              "      <th></th>\n",
              "      <th></th>\n",
              "      <th></th>\n",
              "    </tr>\n",
              "  </thead>\n",
              "  <tbody>\n",
              "    <tr>\n",
              "      <th>12426.0</th>\n",
              "      <td>194</td>\n",
              "      <td>30</td>\n",
              "      <td>582.73</td>\n",
              "    </tr>\n",
              "    <tr>\n",
              "      <th>12427.0</th>\n",
              "      <td>21</td>\n",
              "      <td>31</td>\n",
              "      <td>825.80</td>\n",
              "    </tr>\n",
              "    <tr>\n",
              "      <th>12468.0</th>\n",
              "      <td>187</td>\n",
              "      <td>38</td>\n",
              "      <td>729.54</td>\n",
              "    </tr>\n",
              "    <tr>\n",
              "      <th>12475.0</th>\n",
              "      <td>53</td>\n",
              "      <td>36</td>\n",
              "      <td>723.38</td>\n",
              "    </tr>\n",
              "    <tr>\n",
              "      <th>12479.0</th>\n",
              "      <td>11</td>\n",
              "      <td>31</td>\n",
              "      <td>527.20</td>\n",
              "    </tr>\n",
              "  </tbody>\n",
              "</table>\n",
              "</div>"
            ],
            "text/plain": [
              "            recency  frequency  monetary\n",
              "CustomerID                              \n",
              "12426.0         194         30    582.73\n",
              "12427.0          21         31    825.80\n",
              "12468.0         187         38    729.54\n",
              "12475.0          53         36    723.38\n",
              "12479.0          11         31    527.20"
            ]
          },
          "metadata": {
            "tags": []
          },
          "execution_count": 216
        }
      ]
    },
    {
      "cell_type": "code",
      "metadata": {
        "id": "z3McrR0h2lH9"
      },
      "source": [
        "def RFMScore(x,p,d):\n",
        "    if x <= d[p][0.25]:\n",
        "        return 1\n",
        "    elif x <= d[p][0.50]:\n",
        "        return 2\n",
        "    elif x <= d[p][0.75]: \n",
        "        return 3\n",
        "    else:\n",
        "        return 4\n",
        "    \n",
        "def RFMScore(x,p,d):\n",
        "    if x <= d[p][0.25]:\n",
        "        return 1\n",
        "    elif x <= d[p][0.50]:\n",
        "        return 2\n",
        "    elif x <= d[p][0.75]: \n",
        "        return 3\n",
        "    else:\n",
        "        return 4\n",
        "rfm['R'] = rfm['recency'].apply(RFMScore, args=('recency',quantiles,))\n",
        "rfm['F'] = rfm['frequency'].apply(RFMScore, args=('frequency',quantiles,))\n",
        "rfm['M'] = rfm['monetary'].apply(RFMScore, args=('monetary',quantiles,))"
      ],
      "execution_count": 217,
      "outputs": []
    },
    {
      "cell_type": "code",
      "metadata": {
        "colab": {
          "base_uri": "https://localhost:8080/",
          "height": 235
        },
        "id": "mQDgk4rC2vUA",
        "outputId": "ae8eb1da-f32a-4720-f36b-2e538aff04b9"
      },
      "source": [
        "rfm.head()"
      ],
      "execution_count": 218,
      "outputs": [
        {
          "output_type": "execute_result",
          "data": {
            "text/html": [
              "<div>\n",
              "<style scoped>\n",
              "    .dataframe tbody tr th:only-of-type {\n",
              "        vertical-align: middle;\n",
              "    }\n",
              "\n",
              "    .dataframe tbody tr th {\n",
              "        vertical-align: top;\n",
              "    }\n",
              "\n",
              "    .dataframe thead th {\n",
              "        text-align: right;\n",
              "    }\n",
              "</style>\n",
              "<table border=\"1\" class=\"dataframe\">\n",
              "  <thead>\n",
              "    <tr style=\"text-align: right;\">\n",
              "      <th></th>\n",
              "      <th>recency</th>\n",
              "      <th>frequency</th>\n",
              "      <th>monetary</th>\n",
              "      <th>R</th>\n",
              "      <th>F</th>\n",
              "      <th>M</th>\n",
              "    </tr>\n",
              "    <tr>\n",
              "      <th>CustomerID</th>\n",
              "      <th></th>\n",
              "      <th></th>\n",
              "      <th></th>\n",
              "      <th></th>\n",
              "      <th></th>\n",
              "      <th></th>\n",
              "    </tr>\n",
              "  </thead>\n",
              "  <tbody>\n",
              "    <tr>\n",
              "      <th>12426.0</th>\n",
              "      <td>194</td>\n",
              "      <td>30</td>\n",
              "      <td>582.73</td>\n",
              "      <td>4</td>\n",
              "      <td>2</td>\n",
              "      <td>2</td>\n",
              "    </tr>\n",
              "    <tr>\n",
              "      <th>12427.0</th>\n",
              "      <td>21</td>\n",
              "      <td>31</td>\n",
              "      <td>825.80</td>\n",
              "      <td>1</td>\n",
              "      <td>3</td>\n",
              "      <td>3</td>\n",
              "    </tr>\n",
              "    <tr>\n",
              "      <th>12468.0</th>\n",
              "      <td>187</td>\n",
              "      <td>38</td>\n",
              "      <td>729.54</td>\n",
              "      <td>4</td>\n",
              "      <td>3</td>\n",
              "      <td>3</td>\n",
              "    </tr>\n",
              "    <tr>\n",
              "      <th>12475.0</th>\n",
              "      <td>53</td>\n",
              "      <td>36</td>\n",
              "      <td>723.38</td>\n",
              "      <td>2</td>\n",
              "      <td>3</td>\n",
              "      <td>3</td>\n",
              "    </tr>\n",
              "    <tr>\n",
              "      <th>12479.0</th>\n",
              "      <td>11</td>\n",
              "      <td>31</td>\n",
              "      <td>527.20</td>\n",
              "      <td>1</td>\n",
              "      <td>3</td>\n",
              "      <td>2</td>\n",
              "    </tr>\n",
              "  </tbody>\n",
              "</table>\n",
              "</div>"
            ],
            "text/plain": [
              "            recency  frequency  monetary  R  F  M\n",
              "CustomerID                                       \n",
              "12426.0         194         30    582.73  4  2  2\n",
              "12427.0          21         31    825.80  1  3  3\n",
              "12468.0         187         38    729.54  4  3  3\n",
              "12475.0          53         36    723.38  2  3  3\n",
              "12479.0          11         31    527.20  1  3  2"
            ]
          },
          "metadata": {
            "tags": []
          },
          "execution_count": 218
        }
      ]
    },
    {
      "cell_type": "markdown",
      "metadata": {
        "id": "6og9YJ763-tK"
      },
      "source": [
        "create segment: "
      ]
    },
    {
      "cell_type": "code",
      "metadata": {
        "id": "xnbWW-sa204L"
      },
      "source": [
        "# Concat RFM quartile values to create RFM Segments\n",
        "def join_rfm(x): return str(x['R']) + str(x['F']) + str(x['M'])\n",
        "rfm['RFM_Segment'] = rfm.apply(join_rfm, axis=1)"
      ],
      "execution_count": 220,
      "outputs": []
    },
    {
      "cell_type": "markdown",
      "metadata": {
        "id": "x68kD3Gf4CXd"
      },
      "source": [
        "calculate RFM Score:"
      ]
    },
    {
      "cell_type": "code",
      "metadata": {
        "id": "CCwC9ivh24PN"
      },
      "source": [
        "# Calculate RFM_Score\n",
        "rfm['RFM_Score'] = rfm[['R','F','M']].sum(axis=1)"
      ],
      "execution_count": 221,
      "outputs": []
    },
    {
      "cell_type": "code",
      "metadata": {
        "colab": {
          "base_uri": "https://localhost:8080/",
          "height": 235
        },
        "id": "1bIL7cE827kt",
        "outputId": "fb3fab65-dcb4-40a5-de8d-ef025c7fae7f"
      },
      "source": [
        "rfm.head()"
      ],
      "execution_count": 222,
      "outputs": [
        {
          "output_type": "execute_result",
          "data": {
            "text/html": [
              "<div>\n",
              "<style scoped>\n",
              "    .dataframe tbody tr th:only-of-type {\n",
              "        vertical-align: middle;\n",
              "    }\n",
              "\n",
              "    .dataframe tbody tr th {\n",
              "        vertical-align: top;\n",
              "    }\n",
              "\n",
              "    .dataframe thead th {\n",
              "        text-align: right;\n",
              "    }\n",
              "</style>\n",
              "<table border=\"1\" class=\"dataframe\">\n",
              "  <thead>\n",
              "    <tr style=\"text-align: right;\">\n",
              "      <th></th>\n",
              "      <th>recency</th>\n",
              "      <th>frequency</th>\n",
              "      <th>monetary</th>\n",
              "      <th>R</th>\n",
              "      <th>F</th>\n",
              "      <th>M</th>\n",
              "      <th>RFM_Segment</th>\n",
              "      <th>RFM_Score</th>\n",
              "    </tr>\n",
              "    <tr>\n",
              "      <th>CustomerID</th>\n",
              "      <th></th>\n",
              "      <th></th>\n",
              "      <th></th>\n",
              "      <th></th>\n",
              "      <th></th>\n",
              "      <th></th>\n",
              "      <th></th>\n",
              "      <th></th>\n",
              "    </tr>\n",
              "  </thead>\n",
              "  <tbody>\n",
              "    <tr>\n",
              "      <th>12426.0</th>\n",
              "      <td>194</td>\n",
              "      <td>30</td>\n",
              "      <td>582.73</td>\n",
              "      <td>4</td>\n",
              "      <td>2</td>\n",
              "      <td>2</td>\n",
              "      <td>422</td>\n",
              "      <td>8</td>\n",
              "    </tr>\n",
              "    <tr>\n",
              "      <th>12427.0</th>\n",
              "      <td>21</td>\n",
              "      <td>31</td>\n",
              "      <td>825.80</td>\n",
              "      <td>1</td>\n",
              "      <td>3</td>\n",
              "      <td>3</td>\n",
              "      <td>133</td>\n",
              "      <td>7</td>\n",
              "    </tr>\n",
              "    <tr>\n",
              "      <th>12468.0</th>\n",
              "      <td>187</td>\n",
              "      <td>38</td>\n",
              "      <td>729.54</td>\n",
              "      <td>4</td>\n",
              "      <td>3</td>\n",
              "      <td>3</td>\n",
              "      <td>433</td>\n",
              "      <td>10</td>\n",
              "    </tr>\n",
              "    <tr>\n",
              "      <th>12475.0</th>\n",
              "      <td>53</td>\n",
              "      <td>36</td>\n",
              "      <td>723.38</td>\n",
              "      <td>2</td>\n",
              "      <td>3</td>\n",
              "      <td>3</td>\n",
              "      <td>233</td>\n",
              "      <td>8</td>\n",
              "    </tr>\n",
              "    <tr>\n",
              "      <th>12479.0</th>\n",
              "      <td>11</td>\n",
              "      <td>31</td>\n",
              "      <td>527.20</td>\n",
              "      <td>1</td>\n",
              "      <td>3</td>\n",
              "      <td>2</td>\n",
              "      <td>132</td>\n",
              "      <td>6</td>\n",
              "    </tr>\n",
              "  </tbody>\n",
              "</table>\n",
              "</div>"
            ],
            "text/plain": [
              "            recency  frequency  monetary  R  F  M RFM_Segment  RFM_Score\n",
              "CustomerID                                                              \n",
              "12426.0         194         30    582.73  4  2  2         422          8\n",
              "12427.0          21         31    825.80  1  3  3         133          7\n",
              "12468.0         187         38    729.54  4  3  3         433         10\n",
              "12475.0          53         36    723.38  2  3  3         233          8\n",
              "12479.0          11         31    527.20  1  3  2         132          6"
            ]
          },
          "metadata": {
            "tags": []
          },
          "execution_count": 222
        }
      ]
    },
    {
      "cell_type": "markdown",
      "metadata": {
        "id": "KmTBuW4k1euZ"
      },
      "source": [
        "Create RFM Labels \n",
        "\n",
        "\n",
        "After some calculations on the RFM data we can create customer segments that are actionable and easy to understand — like the ones below:\n",
        "\n",
        "* Champions: Bought recently, buy often and spend the most\n",
        "* Loyal customers: Buy on a regular basis. Responsive to promotions.\n",
        "* Potential loyalist: Recent customers with average frequency.\n",
        "* Recent customers: Bought most recently, but not often.\n",
        "* Promising: Recent shoppers, but haven’t spent much.\n",
        "* Needs attention: Above average recency, frequency and monetary values. May not have bought very recently though.\n",
        "* About to sleep: Below average recency and frequency. Will lose them if not reactivated.\n",
        "* At risk: Some time since they’ve purchased. Need to bring them back!\n",
        "* Can’t lose them: Used to purchase frequently but haven’t returned for a long time.\n",
        "* Hibernating: Last purchase was long back and low number of orders. May be lost.\n"
      ]
    },
    {
      "cell_type": "code",
      "metadata": {
        "id": "8oFrFmaG2_w7"
      },
      "source": [
        "# Create  RFM labels\n",
        "segt_map = {\n",
        "    r'[1-2][1-2]': 'Hibernating',\n",
        "    r'[1-2][2-3]': 'At risk',\n",
        "    r'[1-2]4': 'Can\\'t loose them',\n",
        "    r'2[1-2]': 'About to sleep',\n",
        "    r'22': 'Need attention',\n",
        "    r'[2-3][3-4]': 'Loyal customers',\n",
        "    r'31': 'Promising',\n",
        "    r'41': 'New customers',\n",
        "    r'[3-4][1-2]': 'Potential loyalists',\n",
        "    r'4[3-4]': 'Champions'\n",
        "}\n",
        "rfm['Segment'] = rfm['R'].map(str) + rfm['F'].map(str)\n",
        "rfm['Segment'] = rfm['Segment'].replace(segt_map, regex=True)"
      ],
      "execution_count": 223,
      "outputs": []
    },
    {
      "cell_type": "code",
      "metadata": {
        "colab": {
          "base_uri": "https://localhost:8080/",
          "height": 235
        },
        "id": "sjpISeUd4Xja",
        "outputId": "2e0aed0b-0c37-4fa9-cbe6-fb9a8ff82960"
      },
      "source": [
        "rfm.head()"
      ],
      "execution_count": 224,
      "outputs": [
        {
          "output_type": "execute_result",
          "data": {
            "text/html": [
              "<div>\n",
              "<style scoped>\n",
              "    .dataframe tbody tr th:only-of-type {\n",
              "        vertical-align: middle;\n",
              "    }\n",
              "\n",
              "    .dataframe tbody tr th {\n",
              "        vertical-align: top;\n",
              "    }\n",
              "\n",
              "    .dataframe thead th {\n",
              "        text-align: right;\n",
              "    }\n",
              "</style>\n",
              "<table border=\"1\" class=\"dataframe\">\n",
              "  <thead>\n",
              "    <tr style=\"text-align: right;\">\n",
              "      <th></th>\n",
              "      <th>recency</th>\n",
              "      <th>frequency</th>\n",
              "      <th>monetary</th>\n",
              "      <th>R</th>\n",
              "      <th>F</th>\n",
              "      <th>M</th>\n",
              "      <th>RFM_Segment</th>\n",
              "      <th>RFM_Score</th>\n",
              "      <th>Segment</th>\n",
              "    </tr>\n",
              "    <tr>\n",
              "      <th>CustomerID</th>\n",
              "      <th></th>\n",
              "      <th></th>\n",
              "      <th></th>\n",
              "      <th></th>\n",
              "      <th></th>\n",
              "      <th></th>\n",
              "      <th></th>\n",
              "      <th></th>\n",
              "      <th></th>\n",
              "    </tr>\n",
              "  </thead>\n",
              "  <tbody>\n",
              "    <tr>\n",
              "      <th>12426.0</th>\n",
              "      <td>194</td>\n",
              "      <td>30</td>\n",
              "      <td>582.73</td>\n",
              "      <td>4</td>\n",
              "      <td>2</td>\n",
              "      <td>2</td>\n",
              "      <td>422</td>\n",
              "      <td>8</td>\n",
              "      <td>Potential loyalists</td>\n",
              "    </tr>\n",
              "    <tr>\n",
              "      <th>12427.0</th>\n",
              "      <td>21</td>\n",
              "      <td>31</td>\n",
              "      <td>825.80</td>\n",
              "      <td>1</td>\n",
              "      <td>3</td>\n",
              "      <td>3</td>\n",
              "      <td>133</td>\n",
              "      <td>7</td>\n",
              "      <td>At risk</td>\n",
              "    </tr>\n",
              "    <tr>\n",
              "      <th>12468.0</th>\n",
              "      <td>187</td>\n",
              "      <td>38</td>\n",
              "      <td>729.54</td>\n",
              "      <td>4</td>\n",
              "      <td>3</td>\n",
              "      <td>3</td>\n",
              "      <td>433</td>\n",
              "      <td>10</td>\n",
              "      <td>Champions</td>\n",
              "    </tr>\n",
              "    <tr>\n",
              "      <th>12475.0</th>\n",
              "      <td>53</td>\n",
              "      <td>36</td>\n",
              "      <td>723.38</td>\n",
              "      <td>2</td>\n",
              "      <td>3</td>\n",
              "      <td>3</td>\n",
              "      <td>233</td>\n",
              "      <td>8</td>\n",
              "      <td>At risk</td>\n",
              "    </tr>\n",
              "    <tr>\n",
              "      <th>12479.0</th>\n",
              "      <td>11</td>\n",
              "      <td>31</td>\n",
              "      <td>527.20</td>\n",
              "      <td>1</td>\n",
              "      <td>3</td>\n",
              "      <td>2</td>\n",
              "      <td>132</td>\n",
              "      <td>6</td>\n",
              "      <td>At risk</td>\n",
              "    </tr>\n",
              "  </tbody>\n",
              "</table>\n",
              "</div>"
            ],
            "text/plain": [
              "            recency  frequency  ...  RFM_Score              Segment\n",
              "CustomerID                      ...                                \n",
              "12426.0         194         30  ...          8  Potential loyalists\n",
              "12427.0          21         31  ...          7              At risk\n",
              "12468.0         187         38  ...         10            Champions\n",
              "12475.0          53         36  ...          8              At risk\n",
              "12479.0          11         31  ...          6              At risk\n",
              "\n",
              "[5 rows x 9 columns]"
            ]
          },
          "metadata": {
            "tags": []
          },
          "execution_count": 224
        }
      ]
    },
    {
      "cell_type": "code",
      "metadata": {
        "colab": {
          "base_uri": "https://localhost:8080/",
          "height": 235
        },
        "id": "zNffL4x44f_1",
        "outputId": "ef6a2fb0-d52c-432a-9033-d1ddc0145dad"
      },
      "source": [
        "# List the head of the table to view the \n",
        "rfm.head(5)"
      ],
      "execution_count": 225,
      "outputs": [
        {
          "output_type": "execute_result",
          "data": {
            "text/html": [
              "<div>\n",
              "<style scoped>\n",
              "    .dataframe tbody tr th:only-of-type {\n",
              "        vertical-align: middle;\n",
              "    }\n",
              "\n",
              "    .dataframe tbody tr th {\n",
              "        vertical-align: top;\n",
              "    }\n",
              "\n",
              "    .dataframe thead th {\n",
              "        text-align: right;\n",
              "    }\n",
              "</style>\n",
              "<table border=\"1\" class=\"dataframe\">\n",
              "  <thead>\n",
              "    <tr style=\"text-align: right;\">\n",
              "      <th></th>\n",
              "      <th>recency</th>\n",
              "      <th>frequency</th>\n",
              "      <th>monetary</th>\n",
              "      <th>R</th>\n",
              "      <th>F</th>\n",
              "      <th>M</th>\n",
              "      <th>RFM_Segment</th>\n",
              "      <th>RFM_Score</th>\n",
              "      <th>Segment</th>\n",
              "    </tr>\n",
              "    <tr>\n",
              "      <th>CustomerID</th>\n",
              "      <th></th>\n",
              "      <th></th>\n",
              "      <th></th>\n",
              "      <th></th>\n",
              "      <th></th>\n",
              "      <th></th>\n",
              "      <th></th>\n",
              "      <th></th>\n",
              "      <th></th>\n",
              "    </tr>\n",
              "  </thead>\n",
              "  <tbody>\n",
              "    <tr>\n",
              "      <th>12426.0</th>\n",
              "      <td>194</td>\n",
              "      <td>30</td>\n",
              "      <td>582.73</td>\n",
              "      <td>4</td>\n",
              "      <td>2</td>\n",
              "      <td>2</td>\n",
              "      <td>422</td>\n",
              "      <td>8</td>\n",
              "      <td>Potential loyalists</td>\n",
              "    </tr>\n",
              "    <tr>\n",
              "      <th>12427.0</th>\n",
              "      <td>21</td>\n",
              "      <td>31</td>\n",
              "      <td>825.80</td>\n",
              "      <td>1</td>\n",
              "      <td>3</td>\n",
              "      <td>3</td>\n",
              "      <td>133</td>\n",
              "      <td>7</td>\n",
              "      <td>At risk</td>\n",
              "    </tr>\n",
              "    <tr>\n",
              "      <th>12468.0</th>\n",
              "      <td>187</td>\n",
              "      <td>38</td>\n",
              "      <td>729.54</td>\n",
              "      <td>4</td>\n",
              "      <td>3</td>\n",
              "      <td>3</td>\n",
              "      <td>433</td>\n",
              "      <td>10</td>\n",
              "      <td>Champions</td>\n",
              "    </tr>\n",
              "    <tr>\n",
              "      <th>12475.0</th>\n",
              "      <td>53</td>\n",
              "      <td>36</td>\n",
              "      <td>723.38</td>\n",
              "      <td>2</td>\n",
              "      <td>3</td>\n",
              "      <td>3</td>\n",
              "      <td>233</td>\n",
              "      <td>8</td>\n",
              "      <td>At risk</td>\n",
              "    </tr>\n",
              "    <tr>\n",
              "      <th>12479.0</th>\n",
              "      <td>11</td>\n",
              "      <td>31</td>\n",
              "      <td>527.20</td>\n",
              "      <td>1</td>\n",
              "      <td>3</td>\n",
              "      <td>2</td>\n",
              "      <td>132</td>\n",
              "      <td>6</td>\n",
              "      <td>At risk</td>\n",
              "    </tr>\n",
              "  </tbody>\n",
              "</table>\n",
              "</div>"
            ],
            "text/plain": [
              "            recency  frequency  ...  RFM_Score              Segment\n",
              "CustomerID                      ...                                \n",
              "12426.0         194         30  ...          8  Potential loyalists\n",
              "12427.0          21         31  ...          7              At risk\n",
              "12468.0         187         38  ...         10            Champions\n",
              "12475.0          53         36  ...          8              At risk\n",
              "12479.0          11         31  ...          6              At risk\n",
              "\n",
              "[5 rows x 9 columns]"
            ]
          },
          "metadata": {
            "tags": []
          },
          "execution_count": 225
        }
      ]
    },
    {
      "cell_type": "markdown",
      "metadata": {
        "id": "jaWPU5nX8H7Z"
      },
      "source": [
        "**Visualize the results:** "
      ]
    },
    {
      "cell_type": "code",
      "metadata": {
        "colab": {
          "base_uri": "https://localhost:8080/",
          "height": 334
        },
        "id": "eXBx5ib4BtjT",
        "outputId": "21e91b66-9fd8-4c82-c4e2-64caa0ec5005"
      },
      "source": [
        "#plot \n",
        "plt.figure(figsize=(12,5))\n",
        "ax = sns.countplot(x=\"Segment\", data=rfm)"
      ],
      "execution_count": 226,
      "outputs": [
        {
          "output_type": "display_data",
          "data": {
            "image/png": "[encoded data removed]",
            "text/plain": [
              "<Figure size 864x360 with 1 Axes>"
            ]
          },
          "metadata": {
            "tags": [],
            "needs_background": "light"
          }
        }
      ]
    },
    {
      "cell_type": "markdown",
      "metadata": {
        "id": "hHDiKqk_4u3Y"
      },
      "source": [
        "#### conclusion: \n",
        "\n",
        "we could say that we have learned from this RFM analysis \n",
        "\n",
        "*  most of coustomer we have in this dataset are Low RFM customers (Hibernating),  These are the people who don’t spend much or buy often from your business. we may be want to offer free trial periods, one-off discounts, and other ways to get them to try out our services.\n",
        "we will trying to encourage the people in this band to become medium RFM customers\n",
        "\n",
        "\n",
        "* Our data contains a lot of odds  and irrigualr values, it needs more cleaning, we need to look at how the data is generated and improve data validation.\n",
        "* Our data contain outliers and the outliers should be investigated and maybe labeled or removed.\n",
        "\n",
        "After cleaning prepare the data our RFM model can be used for creating more precise action plans for each customer segments. This can have positive effects on marketing spend, conversion rates and customer retention.\n"
      ]
    }
  ]
}